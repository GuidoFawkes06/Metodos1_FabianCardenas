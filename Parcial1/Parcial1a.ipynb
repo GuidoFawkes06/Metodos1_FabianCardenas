{
 "cells": [
  {
   "cell_type": "code",
   "execution_count": 23,
   "metadata": {},
   "outputs": [],
   "source": [
    "import sympy as sym"
   ]
  },
  {
   "cell_type": "markdown",
   "metadata": {},
   "source": [
    "Creacion de simbolo para evaluar la base cardinal"
   ]
  },
  {
   "cell_type": "code",
   "execution_count": 24,
   "metadata": {},
   "outputs": [],
   "source": [
    "x = sym.Symbol('x',real=True)"
   ]
  },
  {
   "cell_type": "markdown",
   "metadata": {},
   "source": [
    "Creacion de simbolo para derivar"
   ]
  },
  {
   "cell_type": "code",
   "execution_count": 25,
   "metadata": {},
   "outputs": [],
   "source": [
    "h = sym.Symbol('h',real=True)"
   ]
  },
  {
   "cell_type": "markdown",
   "metadata": {},
   "source": [
    "Lista de simbolos"
   ]
  },
  {
   "cell_type": "code",
   "execution_count": 26,
   "metadata": {},
   "outputs": [],
   "source": [
    "X=[-2*h,-1*h,0*h,1*h,2*h]"
   ]
  },
  {
   "cell_type": "markdown",
   "metadata": {},
   "source": [
    "Funcion de lagrange para calcular la base cardinal"
   ]
  },
  {
   "cell_type": "code",
   "execution_count": 27,
   "metadata": {},
   "outputs": [],
   "source": [
    "def Lagrange(x,xi,j):\n",
    "    \n",
    "    prod = 1\n",
    "    n = len(xi)\n",
    "    \n",
    "    for i in range(n):\n",
    "        if i != j:\n",
    "            prod *= (x - xi[i])/(xi[j]-xi[i])\n",
    "            \n",
    "    return prod"
   ]
  },
  {
   "cell_type": "code",
   "execution_count": 28,
   "metadata": {},
   "outputs": [],
   "source": [
    "def GetCoefficients(x,p,X):\n",
    "    Coefficients = []\n",
    "    for i in range(len(X)):\n",
    "        Li = Lagrange(x,X,i)\n",
    "        dLi = sym.diff(Li,x,1)\n",
    "        C=dLi.subs(x,X[p])\n",
    "        Coefficients.append(C)\n",
    "    \n",
    "    return Coefficients"
   ]
  },
  {
   "cell_type": "code",
   "execution_count": 29,
   "metadata": {},
   "outputs": [
    {
     "name": "stdout",
     "output_type": "stream",
     "text": [
      "x*(-2*h + x)*(-h + x)/(24*h**4) + x*(-2*h + x)*(h + x)/(24*h**4) + x*(-h + x)*(h + x)/(24*h**4) + (-2*h + x)*(-h + x)*(h + x)/(24*h**4)\n",
      "-x*(-2*h + x)*(-h + x)/(6*h**4) - x*(-2*h + x)*(2*h + x)/(6*h**4) - x*(-h + x)*(2*h + x)/(6*h**4) - (-2*h + x)*(-h + x)*(2*h + x)/(6*h**4)\n",
      "(-2*h + x)*(-h + x)*(h + x)/(4*h**4) + (-2*h + x)*(-h + x)*(2*h + x)/(4*h**4) + (-2*h + x)*(h + x)*(2*h + x)/(4*h**4) + (-h + x)*(h + x)*(2*h + x)/(4*h**4)\n",
      "-x*(-2*h + x)*(h + x)/(6*h**4) - x*(-2*h + x)*(2*h + x)/(6*h**4) - x*(h + x)*(2*h + x)/(6*h**4) - (-2*h + x)*(h + x)*(2*h + x)/(6*h**4)\n",
      "x*(-h + x)*(h + x)/(24*h**4) + x*(-h + x)*(2*h + x)/(24*h**4) + x*(h + x)*(2*h + x)/(24*h**4) + (-h + x)*(h + x)*(2*h + x)/(24*h**4)\n"
     ]
    },
    {
     "data": {
      "text/plain": [
       "[1/(12*h), -2/(3*h), 0, 2/(3*h), -1/(12*h)]"
      ]
     },
     "execution_count": 29,
     "metadata": {},
     "output_type": "execute_result"
    }
   ],
   "source": [
    "GetCoefficients(x,2,X)"
   ]
  },
  {
   "attachments": {},
   "cell_type": "markdown",
   "metadata": {},
   "source": [
    "Cabe recordar que el error de interpolacion del polinomio esta dado por\n",
    "    E= dfn+1/dx^n+1 (ξx)(n + 1)! (x − x0)(x − x1)...(x − xn), siendo n el grado polinomial\n",
    "El grado del error es n+1 para el polinomio de interpolacion de grado n.\n",
    "En este caso se tienen 5 puntos para hacer la interpolacion, por lo tanto el grado del error es de 4"
   ]
  }
 ],
 "metadata": {
  "kernelspec": {
   "display_name": "Python 3",
   "language": "python",
   "name": "python3"
  },
  "language_info": {
   "codemirror_mode": {
    "name": "ipython",
    "version": 3
   },
   "file_extension": ".py",
   "mimetype": "text/x-python",
   "name": "python",
   "nbconvert_exporter": "python",
   "pygments_lexer": "ipython3",
   "version": "3.11.2"
  },
  "vscode": {
   "interpreter": {
    "hash": "43fbbb8aaf2967c066e9019e3209356d81157a46c46aad515cc2bd8ebf475f7d"
   }
  }
 },
 "nbformat": 4,
 "nbformat_minor": 2
}
