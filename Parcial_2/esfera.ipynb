{
 "cells": [
  {
   "cell_type": "code",
   "execution_count": 2,
   "metadata": {},
   "outputs": [],
   "source": [
    "import numpy as np\n",
    "from tqdm import tqdm"
   ]
  },
  {
   "cell_type": "code",
   "execution_count": 3,
   "metadata": {},
   "outputs": [],
   "source": [
    "def CreateSphere(N,R=1):\n",
    "    \n",
    "    Points = np.zeros((N,3))\n",
    "        \n",
    "    for i in tqdm(range(N)):\n",
    "        \n",
    "        phi = np.random.uniform(0,2*np.pi)\n",
    "        u = np.random.rand()\n",
    "        r = R*u**(1/3)\n",
    "        costheta = np.random.uniform(-1,1)\n",
    "        theta = np.arccos(costheta)\n",
    "        \n",
    "        Points[i] = [r*np.cos(phi)*np.sin(theta),r*np.sin(phi)*np.sin(theta),r*np.cos(theta)]\n",
    "        \n",
    "    return Points"
   ]
  },
  {
   "cell_type": "code",
   "execution_count": 4,
   "metadata": {},
   "outputs": [],
   "source": [
    "N=1e6"
   ]
  },
  {
   "cell_type": "code",
   "execution_count": 5,
   "metadata": {},
   "outputs": [
    {
     "name": "stderr",
     "output_type": "stream",
     "text": [
      "100%|██████████| 1000000/1000000 [00:40<00:00, 24917.54it/s]\n"
     ]
    }
   ],
   "source": [
    "sphere=CreateSphere(int(N))"
   ]
  },
  {
   "cell_type": "code",
   "execution_count": 6,
   "metadata": {},
   "outputs": [],
   "source": [
    "def Iab(a,b):\n",
    "    return a**2+b**2"
   ]
  },
  {
   "cell_type": "code",
   "execution_count": 7,
   "metadata": {},
   "outputs": [],
   "source": [
    "def ixy(a,b):\n",
    "    return -1*a*b"
   ]
  },
  {
   "cell_type": "code",
   "execution_count": 8,
   "metadata": {},
   "outputs": [],
   "source": [
    "muestra=np.zeros([sphere.shape[0],4])"
   ]
  },
  {
   "cell_type": "code",
   "execution_count": 9,
   "metadata": {},
   "outputs": [
    {
     "name": "stderr",
     "output_type": "stream",
     "text": [
      "100%|██████████| 1000000/1000000 [00:10<00:00, 97827.67it/s]\n"
     ]
    }
   ],
   "source": [
    "for i in tqdm(range(sphere.shape[0])):\n",
    "    muestra[i][0]=Iab(sphere[i,1],sphere[i,2])\n",
    "    muestra[i][1]=Iab(sphere[i,0],sphere[i,2])\n",
    "    muestra[i][2]=Iab(sphere[i,0],sphere[i,1])\n",
    "    muestra[i][3]=ixy(sphere[i,0],sphere[i,1])"
   ]
  },
  {
   "cell_type": "code",
   "execution_count": null,
   "metadata": {},
   "outputs": [],
   "source": [
    "Ixx=np.average(muestra[:,0])\n",
    "Iyy=np.average(muestra[:,1])\n",
    "Izz=np.average(muestra[:,2])\n",
    "Ixy=np.average(muestra[:,3])"
   ]
  },
  {
   "cell_type": "code",
   "execution_count": null,
   "metadata": {},
   "outputs": [],
   "source": [
    "print(\"\\n\")\n",
    "print(\"Ixx=\", Ixx)\n",
    "print(\"Iyy=\", Iyy)\n",
    "print(\"Izz=\", Izz)\n",
    "print(\"Ixy=\", Ixy)"
   ]
  }
 ],
 "metadata": {
  "kernelspec": {
   "display_name": "Python 3",
   "language": "python",
   "name": "python3"
  },
  "language_info": {
   "codemirror_mode": {
    "name": "ipython",
    "version": 3
   },
   "file_extension": ".py",
   "mimetype": "text/x-python",
   "name": "python",
   "nbconvert_exporter": "python",
   "pygments_lexer": "ipython3",
   "version": "3.11.2"
  },
  "orig_nbformat": 4
 },
 "nbformat": 4,
 "nbformat_minor": 2
}
