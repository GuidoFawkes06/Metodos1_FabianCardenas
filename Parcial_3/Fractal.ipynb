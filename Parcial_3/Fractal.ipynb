{
 "cells": [
  {
   "attachments": {},
   "cell_type": "markdown",
   "metadata": {},
   "source": [
    "(Problema de Cayley y los fractales 1879) ¿Si se parte de un punto aleatorio del plano complejo, a qué raíz de la función $f(z) = z^3 − 1$ (donde z = x + iy) converge el método generalizado de Newton-Raphson?. Esta función tiene las siguientes raíces $f(zi) = 0, i = 0, 1, 2$:\n",
    "$$z_0 = \\frac{−1}{2}+\\frac{√3}{2}i$$\n",
    "$$z_1 = \\frac{−1}{2}-\\frac{√3}{2}i$$\n",
    "$$z_2 = 1+0i$$\n",
    "La aplicación del método de generalizado de Newton al polinomio $f(z) = z^3 − 1$ genera una frontera en el plano complejo denominada fractal de Newton"
   ]
  },
  {
   "cell_type": "code",
   "execution_count": 107,
   "metadata": {},
   "outputs": [],
   "source": [
    "import sympy as sym\n",
    "import numpy as np\n",
    "from sympy import symbols\n",
    "import matplotlib.pyplot as plt\n",
    "from tqdm import tqdm"
   ]
  },
  {
   "cell_type": "code",
   "execution_count": 108,
   "metadata": {},
   "outputs": [],
   "source": [
    "x = symbols('x',real=True)\n",
    "y = symbols('y',real=True)"
   ]
  },
  {
   "cell_type": "code",
   "execution_count": 109,
   "metadata": {},
   "outputs": [],
   "source": [
    "z = x + sym.I*y"
   ]
  },
  {
   "cell_type": "code",
   "execution_count": 110,
   "metadata": {},
   "outputs": [],
   "source": [
    "f_z = z**3 -1"
   ]
  },
  {
   "cell_type": "code",
   "execution_count": 111,
   "metadata": {},
   "outputs": [
    {
     "data": {
      "text/plain": [
       "[x**3 - 3*x*y**2 - 1, 3*x**2*y - y**3]"
      ]
     },
     "execution_count": 111,
     "metadata": {},
     "output_type": "execute_result"
    }
   ],
   "source": [
    "F=[sym.re(f_z),sym.im(f_z)]\n",
    "F"
   ]
  },
  {
   "cell_type": "code",
   "execution_count": 112,
   "metadata": {},
   "outputs": [
    {
     "data": {
      "text/latex": [
       "$\\displaystyle \\left[\\begin{matrix}3 x^{2} - 3 y^{2} & - 6 x y\\\\6 x y & 3 x^{2} - 3 y^{2}\\end{matrix}\\right]$"
      ],
      "text/plain": [
       "Matrix([\n",
       "[3*x**2 - 3*y**2,          -6*x*y],\n",
       "[          6*x*y, 3*x**2 - 3*y**2]])"
      ]
     },
     "execution_count": 112,
     "metadata": {},
     "output_type": "execute_result"
    }
   ],
   "source": [
    "J = sym.Matrix([F]).jacobian([x, y])\n",
    "J"
   ]
  },
  {
   "cell_type": "code",
   "execution_count": 113,
   "metadata": {},
   "outputs": [
    {
     "data": {
      "text/latex": [
       "$\\displaystyle \\left[\\begin{matrix}3 x^{2} - 3 y^{2} & - 6 x y\\\\6 x y & 3 x^{2} - 3 y^{2}\\end{matrix}\\right]$"
      ],
      "text/plain": [
       "Matrix([\n",
       "[3*x**2 - 3*y**2,          -6*x*y],\n",
       "[          6*x*y, 3*x**2 - 3*y**2]])"
      ]
     },
     "execution_count": 113,
     "metadata": {},
     "output_type": "execute_result"
    }
   ],
   "source": [
    "Fn = sym.lambdify([x,y],F,'numpy')\n",
    "Jn = sym.lambdify([x,y],J,'numpy')"
   ]
  },
  {
   "cell_type": "code",
   "execution_count": 114,
   "metadata": {},
   "outputs": [],
   "source": [
    "def GetNewtonRaphson(Fn,Jn,z0,itmax = 100, precision=1e-5):\n",
    "    \n",
    "    error = 1\n",
    "    it = 0\n",
    "    zn = z0\n",
    "\n",
    "    while error > precision and it <= itmax:\n",
    "        \n",
    "        Jinv=np.linalg.inv(Jn(z0[0],z0[1]))\n",
    "        \n",
    "        zn=z0-np.dot(Jinv,Fn(z0[0],z0[1]))\n",
    "        \n",
    "        error=np.linalg.norm(zn-z0)\n",
    "        \n",
    "        z0=zn\n",
    "    \n",
    "    return zn"
   ]
  },
  {
   "cell_type": "code",
   "execution_count": 115,
   "metadata": {},
   "outputs": [
    {
     "data": {
      "text/plain": [
       "array([-0.5      ,  0.8660254])"
      ]
     },
     "execution_count": 115,
     "metadata": {},
     "output_type": "execute_result"
    }
   ],
   "source": [
    "z0=np.array([0.5,0.5])\n",
    "raiz_z0=GetNewtonRaphson(Fn,Jn,z0)\n",
    "raiz_z0"
   ]
  },
  {
   "cell_type": "code",
   "execution_count": 116,
   "metadata": {},
   "outputs": [
    {
     "data": {
      "text/plain": [
       "(array([-0.5      , -0.8660254]), array([1, 0]))"
      ]
     },
     "execution_count": 116,
     "metadata": {},
     "output_type": "execute_result"
    }
   ],
   "source": [
    "raiz_z1=np.array([-0.5,(-0.5*np.sqrt(3))])\n",
    "raiz_z2=np.array([1,0])\n",
    "raiz_z1,raiz_z2"
   ]
  },
  {
   "cell_type": "code",
   "execution_count": 125,
   "metadata": {},
   "outputs": [],
   "source": [
    "roots = np.array([[raiz_z0], [raiz_z1], [raiz_z2]])\n",
    "index = np.array([20,100,255])"
   ]
  },
  {
   "cell_type": "code",
   "execution_count": 126,
   "metadata": {},
   "outputs": [],
   "source": [
    "N=300\n",
    "X = np.linspace(-1, 1, N)\n",
    "Y = np.linspace(-1, 1, N)"
   ]
  },
  {
   "cell_type": "code",
   "execution_count": 127,
   "metadata": {},
   "outputs": [],
   "source": [
    "Fractal = np.zeros((N,N), np.int64)"
   ]
  },
  {
   "cell_type": "code",
   "execution_count": 137,
   "metadata": {},
   "outputs": [
    {
     "name": "stderr",
     "output_type": "stream",
     "text": [
      "100%|██████████| 300/300 [01:35<00:00,  3.13it/s]\n"
     ]
    }
   ],
   "source": [
    "for i in tqdm(range(N)):\n",
    "    for j in range(N):\n",
    "        \n",
    "        Root_N=GetNewtonRaphson(Fn,Jn,[X[i],Y[j]])\n",
    "        \n",
    "        for k in range(len(roots)):\n",
    "            if np.allclose(Root_N,roots[k]):\n",
    "                Fractal[i, j] = index[k]"
   ]
  },
  {
   "cell_type": "code",
   "execution_count": 143,
   "metadata": {},
   "outputs": [
    {
     "data": {
      "text/plain": [
       "<matplotlib.image.AxesImage at 0x271d85c4250>"
      ]
     },
     "execution_count": 143,
     "metadata": {},
     "output_type": "execute_result"
    },
    {
     "data": {
      "image/png": "[encoded data removed]",
      "text/plain": [
       "<Figure size 640x480 with 1 Axes>"
      ]
     },
     "metadata": {},
     "output_type": "display_data"
    }
   ],
   "source": [
    "plt.imshow(Fractal, cmap=\"gist_heat\" ,extent=[-1,1,-1,1])"
   ]
  }
 ],
 "metadata": {
  "kernelspec": {
   "display_name": "Python 3",
   "language": "python",
   "name": "python3"
  },
  "language_info": {
   "codemirror_mode": {
    "name": "ipython",
    "version": 3
   },
   "file_extension": ".py",
   "mimetype": "text/x-python",
   "name": "python",
   "nbconvert_exporter": "python",
   "pygments_lexer": "ipython3",
   "version": "3.11.3"
  },
  "orig_nbformat": 4
 },
 "nbformat": 4,
 "nbformat_minor": 2
}
