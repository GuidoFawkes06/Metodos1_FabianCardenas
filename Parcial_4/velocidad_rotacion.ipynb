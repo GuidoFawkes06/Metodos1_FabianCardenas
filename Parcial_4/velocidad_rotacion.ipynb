{
 "cells": [
  {
   "attachments": {},
   "cell_type": "markdown",
   "metadata": {},
   "source": [
    "(Estimación de la velocidad de rotación terrestre) En un sistema rotante se debe corregir la segunda ley de Newton dado que es un sistema de referencia no inercial. En el caso de la rotación terrestre, es suficiente incluir la aceleración de coriolis para describir el efecto de la rotación (dado que la aceleración centrifuga es despreciable ($a_{ce} \\omega^2$)). Se desea estimar la velocidad angular de rotación teniendo en cuenta mediciones realizadas en varias latitudes $\\lambda$ del planeta y la incertidumbre experimental de la gravedad $g =9.81^{+1}_1\\hat{k}$; que corresponde con un error relativo del 10%. Las ecuaciones de movimiento quedan expresadas como:"
   ]
  },
  {
   "cell_type": "code",
   "execution_count": 6,
   "metadata": {},
   "outputs": [],
   "source": [
    "import numpy as np\n",
    "import pandas as pd\n",
    "import scipy.optimize as spo\n",
    "from tqdm import tqdm\n",
    "import matplotlib.pyplot as plt"
   ]
  },
  {
   "cell_type": "code",
   "execution_count": 7,
   "metadata": {},
   "outputs": [],
   "source": [
    "file = 'Rotacion.csv'\n",
    "url = 'https://raw.githubusercontent.com/asegura4488/Database/main/MetodosComputacionalesReforma/DataRotacion.csv'"
   ]
  },
  {
   "cell_type": "code",
   "execution_count": 14,
   "metadata": {},
   "outputs": [
    {
     "data": {
      "text/html": [
       "<div>\n",
       "<style scoped>\n",
       "    .dataframe tbody tr th:only-of-type {\n",
       "        vertical-align: middle;\n",
       "    }\n",
       "\n",
       "    .dataframe tbody tr th {\n",
       "        vertical-align: top;\n",
       "    }\n",
       "\n",
       "    .dataframe thead th {\n",
       "        text-align: right;\n",
       "    }\n",
       "</style>\n",
       "<table border=\"1\" class=\"dataframe\">\n",
       "  <thead>\n",
       "    <tr style=\"text-align: right;\">\n",
       "      <th></th>\n",
       "      <th>h</th>\n",
       "      <th>angle</th>\n",
       "      <th>y</th>\n",
       "      <th>sigmay</th>\n",
       "    </tr>\n",
       "  </thead>\n",
       "  <tbody>\n",
       "    <tr>\n",
       "      <th>20</th>\n",
       "      <td>10.0</td>\n",
       "      <td>30.0</td>\n",
       "      <td>0.0013</td>\n",
       "      <td>0.0015</td>\n",
       "    </tr>\n",
       "    <tr>\n",
       "      <th>21</th>\n",
       "      <td>20.0</td>\n",
       "      <td>30.0</td>\n",
       "      <td>0.0017</td>\n",
       "      <td>0.0015</td>\n",
       "    </tr>\n",
       "    <tr>\n",
       "      <th>22</th>\n",
       "      <td>30.0</td>\n",
       "      <td>30.0</td>\n",
       "      <td>0.0038</td>\n",
       "      <td>0.0015</td>\n",
       "    </tr>\n",
       "    <tr>\n",
       "      <th>23</th>\n",
       "      <td>40.0</td>\n",
       "      <td>30.0</td>\n",
       "      <td>0.0059</td>\n",
       "      <td>0.0015</td>\n",
       "    </tr>\n",
       "    <tr>\n",
       "      <th>24</th>\n",
       "      <td>50.0</td>\n",
       "      <td>30.0</td>\n",
       "      <td>0.0067</td>\n",
       "      <td>0.0015</td>\n",
       "    </tr>\n",
       "    <tr>\n",
       "      <th>25</th>\n",
       "      <td>60.0</td>\n",
       "      <td>30.0</td>\n",
       "      <td>0.0094</td>\n",
       "      <td>0.0015</td>\n",
       "    </tr>\n",
       "    <tr>\n",
       "      <th>26</th>\n",
       "      <td>70.0</td>\n",
       "      <td>30.0</td>\n",
       "      <td>0.0122</td>\n",
       "      <td>0.0015</td>\n",
       "    </tr>\n",
       "    <tr>\n",
       "      <th>27</th>\n",
       "      <td>80.0</td>\n",
       "      <td>30.0</td>\n",
       "      <td>0.0132</td>\n",
       "      <td>0.0015</td>\n",
       "    </tr>\n",
       "    <tr>\n",
       "      <th>28</th>\n",
       "      <td>90.0</td>\n",
       "      <td>30.0</td>\n",
       "      <td>0.0151</td>\n",
       "      <td>0.0015</td>\n",
       "    </tr>\n",
       "    <tr>\n",
       "      <th>29</th>\n",
       "      <td>100.0</td>\n",
       "      <td>30.0</td>\n",
       "      <td>0.0186</td>\n",
       "      <td>0.0015</td>\n",
       "    </tr>\n",
       "  </tbody>\n",
       "</table>\n",
       "</div>"
      ],
      "text/plain": [
       "        h  angle       y  sigmay\n",
       "20   10.0   30.0  0.0013  0.0015\n",
       "21   20.0   30.0  0.0017  0.0015\n",
       "22   30.0   30.0  0.0038  0.0015\n",
       "23   40.0   30.0  0.0059  0.0015\n",
       "24   50.0   30.0  0.0067  0.0015\n",
       "25   60.0   30.0  0.0094  0.0015\n",
       "26   70.0   30.0  0.0122  0.0015\n",
       "27   80.0   30.0  0.0132  0.0015\n",
       "28   90.0   30.0  0.0151  0.0015\n",
       "29  100.0   30.0  0.0186  0.0015"
      ]
     },
     "execution_count": 14,
     "metadata": {},
     "output_type": "execute_result"
    }
   ],
   "source": [
    "data = pd.read_csv(url,sep=\",\",engine='python')\n",
    "angle30 = data[data.angle==30]\n",
    "angle30"
   ]
  },
  {
   "cell_type": "code",
   "execution_count": 23,
   "metadata": {},
   "outputs": [
    {
     "data": {
      "text/plain": [
       "array([0.0015, 0.0015, 0.0015, 0.0015, 0.0015, 0.0015, 0.0015, 0.0015,\n",
       "       0.0015, 0.0015, 0.0015, 0.0015, 0.0015, 0.0015, 0.0015, 0.0015,\n",
       "       0.0015, 0.0015, 0.0015, 0.0015, 0.0015, 0.0015, 0.0015, 0.0015,\n",
       "       0.0015, 0.0015, 0.0015, 0.0015, 0.0015, 0.0015, 0.0015, 0.0015,\n",
       "       0.0015, 0.0015, 0.0015, 0.0015, 0.0015, 0.0015, 0.0015, 0.0015,\n",
       "       0.0015, 0.0015, 0.0015, 0.0015, 0.0015, 0.0015, 0.0015, 0.0015,\n",
       "       0.0015, 0.0015, 0.0015, 0.0015, 0.0015, 0.0015, 0.0015, 0.0015,\n",
       "       0.0015, 0.0015, 0.0015, 0.0015])"
      ]
     },
     "execution_count": 23,
     "metadata": {},
     "output_type": "execute_result"
    }
   ],
   "source": [
    "sigmay=np.array(data.sigmay,np.float64)\n",
    "sigmay"
   ]
  },
  {
   "cell_type": "code",
   "execution_count": 41,
   "metadata": {},
   "outputs": [
    {
     "data": {
      "text/plain": [
       "array([ 10.,  20.,  30.,  40.,  50.,  60.,  70.,  80.,  90., 100.,  10.,\n",
       "        20.,  30.,  40.,  50.,  60.,  70.,  80.,  90., 100.,  10.,  20.,\n",
       "        30.,  40.,  50.,  60.,  70.,  80.,  90., 100.,  10.,  20.,  30.,\n",
       "        40.,  50.,  60.,  70.,  80.,  90., 100.,  10.,  20.,  30.,  40.,\n",
       "        50.,  60.,  70.,  80.,  90., 100.,  10.,  20.,  30.,  40.,  50.,\n",
       "        60.,  70.,  80.,  90., 100.])"
      ]
     },
     "execution_count": 41,
     "metadata": {},
     "output_type": "execute_result"
    }
   ],
   "source": [
    "h_values = np.array(data.h,np.float64)\n",
    "h_values"
   ]
  },
  {
   "cell_type": "code",
   "execution_count": 42,
   "metadata": {},
   "outputs": [],
   "source": [
    "y_values = np.array(data.y,np.float64)"
   ]
  },
  {
   "cell_type": "code",
   "execution_count": 43,
   "metadata": {},
   "outputs": [],
   "source": [
    "def Model(p,h,latitude,g):\n",
    "    return (2*np.sqrt(2)/3)*p*np.cos(latitude*np.pi/180)*np.sqrt(h**3/g)"
   ]
  },
  {
   "cell_type": "code",
   "execution_count": 44,
   "metadata": {},
   "outputs": [],
   "source": [
    "def Chi_2(p,h,y,sigmay,angle,g):\n",
    "    return np.sum(((y-Model(p[0],h,angle,g))**2/sigmay**2))"
   ]
  },
  {
   "cell_type": "code",
   "execution_count": 49,
   "metadata": {},
   "outputs": [],
   "source": [
    "minimize_options = {'disp': True}\n",
    "g0=9.81\n",
    "p0=[0.]\n",
    "args=(angle30.h,angle30.y,angle30.sigmay,angle30.angle,g0)\n",
    "Min_=spo.minimize(Chi_2,p0,args=args)\n",
    "Omega_30=Min_.x"
   ]
  },
  {
   "cell_type": "code",
   "execution_count": 50,
   "metadata": {},
   "outputs": [
    {
     "name": "stdout",
     "output_type": "stream",
     "text": [
      "[7.24399826e-05]\n"
     ]
    }
   ],
   "source": [
    "print(Omega_30)"
   ]
  },
  {
   "cell_type": "code",
   "execution_count": 51,
   "metadata": {},
   "outputs": [
    {
     "data": {
      "text/plain": [
       "[<matplotlib.lines.Line2D at 0x1af92831310>]"
      ]
     },
     "execution_count": 51,
     "metadata": {},
     "output_type": "execute_result"
    },
    {
     "data": {
      "image/png": "[encoded data removed]",
      "text/plain": [
       "<Figure size 640x480 with 1 Axes>"
      ]
     },
     "metadata": {},
     "output_type": "display_data"
    }
   ],
   "source": [
    "fig1=plt.figure()\n",
    "ax=fig1.add_subplot()\n",
    "ax.scatter(angle30.h,angle30.y)\n",
    "ax.errorbar(angle30.h,angle30.y,yerr=angle30.sigmay,fmt=\".\")\n",
    "ax.set_xlabel(\"h(m)\")\n",
    "ax.set_ylabel(\"y(m)\")\n",
    "x_=np.linspace(0,100,100)\n",
    "y_=Model(Omega_30,x_,30.,9.81)\n",
    "\n",
    "plt.plot(x_,y_,color=\"r\")"
   ]
  },
  {
   "attachments": {},
   "cell_type": "markdown",
   "metadata": {},
   "source": [
    "Propagación de la incertidumbre de la aceleración de la gravedad:"
   ]
  },
  {
   "cell_type": "code",
   "execution_count": 52,
   "metadata": {},
   "outputs": [],
   "source": [
    "N=300\n",
    "Gravedad=np.zeros(N)\n",
    "Omega=np.zeros(N)\n",
    "y=angle30.y"
   ]
  },
  {
   "cell_type": "code",
   "execution_count": 54,
   "metadata": {},
   "outputs": [
    {
     "name": "stderr",
     "output_type": "stream",
     "text": [
      "100%|██████████| 300/300 [01:02<00:00,  4.81it/s]\n"
     ]
    }
   ],
   "source": [
    "for i in tqdm(range(N)):\n",
    "    Gravedad[i]=9.81 + np.random.normal(loc=0,scale=1)\n",
    "    \n",
    "    yi=y + np.random.normal( loc=0, scale=sigmay[0], size=len(y) )\n",
    "    \n",
    "    Omega[i]=spo.minimize(Chi_2,p0,args=(angle30.h,yi,angle30.sigmay,angle30.angle,Gravedad[i])).x"
   ]
  },
  {
   "cell_type": "code",
   "execution_count": 55,
   "metadata": {},
   "outputs": [],
   "source": [
    "H2,binsx,binsy = np.histogram2d(Omega,Gravedad,bins=(30,30))"
   ]
  },
  {
   "cell_type": "code",
   "execution_count": 56,
   "metadata": {},
   "outputs": [
    {
     "data": {
      "text/plain": [
       "<matplotlib.contour.QuadContourSet at 0x1af9296f1d0>"
      ]
     },
     "execution_count": 56,
     "metadata": {},
     "output_type": "execute_result"
    },
    {
     "data": {
      "image/png": "[encoded data removed]",
      "text/plain": [
       "<Figure size 640x480 with 1 Axes>"
      ]
     },
     "metadata": {},
     "output_type": "display_data"
    }
   ],
   "source": [
    "fig2=plt.figure()\n",
    "ax2=fig2.add_subplot()\n",
    "ax2.contourf(binsx[0:-1],binsy[0:-1],H2)"
   ]
  },
  {
   "cell_type": "code",
   "execution_count": 57,
   "metadata": {},
   "outputs": [
    {
     "data": {
      "image/png": "[encoded data removed]",
      "text/plain": [
       "<Figure size 640x480 with 1 Axes>"
      ]
     },
     "metadata": {},
     "output_type": "display_data"
    }
   ],
   "source": [
    "gridy = np.linspace(min(Gravedad),max(Gravedad),30)\n",
    "gridx = np.linspace(min(Omega),max(Omega),30)\n",
    "\n",
    "H2, binsx, binsy = np.histogram2d(Omega,Gravedad,bins=(gridx,gridy))\n",
    "plt.imshow(H2,interpolation='nearest', origin='lower', extent=[binsx[0],binsx[-1] , binsy[0], binsy[-1]],aspect=\"auto\")\n",
    "plt.show()"
   ]
  },
  {
   "cell_type": "code",
   "execution_count": 58,
   "metadata": {},
   "outputs": [
    {
     "data": {
      "text/plain": [
       "0.77753060961358"
      ]
     },
     "execution_count": 58,
     "metadata": {},
     "output_type": "execute_result"
    }
   ],
   "source": [
    "Mean_g = np.sum(Gravedad)/300\n",
    "Mean_omega = np.sum(Omega)/300\n",
    "\n",
    "Var_g = ((Gravedad - Mean_g)**2).sum()/300\n",
    "Var_omega = ((Omega - Mean_omega)**2).sum()/300\n",
    "\n",
    "Covar_gw = ((Gravedad - Mean_g)*(Omega - Mean_omega)).sum()/300\n",
    "\n",
    "r = Covar_gw/((np.sqrt(Var_g))*(np.sqrt(Var_omega)))\n",
    "r"
   ]
  },
  {
   "attachments": {},
   "cell_type": "markdown",
   "metadata": {},
   "source": [
    "Las variables si estan correlacionadas"
   ]
  },
  {
   "cell_type": "code",
   "execution_count": 33,
   "metadata": {},
   "outputs": [],
   "source": [
    "H1 = np.sum(H2,axis=1)\n",
    "\n",
    "cs = np.cumsum(H1)\n",
    "ij = np.searchsorted( cs, np.percentile(cs,16) )\n",
    "ii = np.searchsorted( cs, np.percentile(cs,50) )\n",
    "ji = np.searchsorted( cs, np.percentile(cs,84) )\n",
    "\n",
    "Omega_sort=np.sort(Omega)\n",
    "\n",
    "omega_best=Omega_sort[int(cs[ii])]\n",
    "CL=[Omega_sort[int(cs[ij])],Omega_sort[int(cs[ji])]]"
   ]
  },
  {
   "cell_type": "code",
   "execution_count": 34,
   "metadata": {},
   "outputs": [
    {
     "name": "stdout",
     "output_type": "stream",
     "text": [
      "7.230750175071443e-05 [6.323139476749276e-05, 8.210824730788989e-05]\n"
     ]
    }
   ],
   "source": [
    "print(omega_best,CL)"
   ]
  },
  {
   "cell_type": "code",
   "execution_count": 35,
   "metadata": {},
   "outputs": [],
   "source": [
    "def Resample(Data_):\n",
    "    \n",
    "    N=300\n",
    "    Gravedad=np.zeros(N)\n",
    "    Omega=np.zeros(N)\n",
    "    y=Data_.y\n",
    "\n",
    "    for i in tqdm(range(N)):\n",
    "        Gravedad[i]=9.81 + np.random.normal(loc=0,scale=1)\n",
    "        \n",
    "        yi=y + np.random.normal( loc=0, scale=sigmay[0], size=len(y) )\n",
    "        \n",
    "        Omega[i]=spo.minimize(Chi_2,p0,args=(Data_.h,yi,Data_.sigmay,Data_.angle,Gravedad[i])).x\n",
    "        \n",
    "    H2,binsx,binsy = np.histogram2d(Omega,Gravedad,bins=(300,300))\n",
    "\n",
    "    H1 = np.sum(H2,axis=1)\n",
    "\n",
    "    cs = np.cumsum(H1)\n",
    "    ij = np.searchsorted( cs, np.percentile(cs,16) )\n",
    "    ii = np.searchsorted( cs, np.percentile(cs,50) )\n",
    "    ji = np.searchsorted( cs, np.percentile(cs,84) )\n",
    "\n",
    "    Omega_sort=np.sort(Omega)\n",
    "\n",
    "    omega_best=Omega_sort[int(cs[ii])]\n",
    "    CL=[Omega_sort[int(cs[ij])],Omega_sort[int(cs[ji])]]\n",
    "    sigma=(CL[1]-CL[0])/2\n",
    "    \n",
    "    return omega_best,CL,sigma/omega_best"
   ]
  },
  {
   "cell_type": "code",
   "execution_count": 37,
   "metadata": {},
   "outputs": [
    {
     "name": "stderr",
     "output_type": "stream",
     "text": [
      "100%|██████████| 300/300 [01:19<00:00,  3.78it/s]\n",
      "100%|██████████| 300/300 [01:17<00:00,  3.85it/s]\n",
      "100%|██████████| 300/300 [01:18<00:00,  3.80it/s]\n",
      "100%|██████████| 300/300 [01:12<00:00,  4.14it/s]\n",
      "100%|██████████| 300/300 [01:05<00:00,  4.59it/s]\n",
      "100%|██████████| 300/300 [00:54<00:00,  5.53it/s]\n",
      "100%|██████████| 300/300 [01:02<00:00,  4.83it/s]\n"
     ]
    },
    {
     "data": {
      "text/plain": [
       "array([[10.        ,  7.08323638,  0.11754825],\n",
       "       [20.        ,  7.13804816,  0.14064025],\n",
       "       [30.        ,  7.23991691,  0.15105558],\n",
       "       [40.        ,  7.74914417,  0.12938082],\n",
       "       [50.        ,  7.08430665,  0.1582062 ],\n",
       "       [60.        ,  7.48550768,  0.16796417],\n",
       "       [70.        ,  7.08793645,  0.09572003]])"
      ]
     },
     "execution_count": 37,
     "metadata": {},
     "output_type": "execute_result"
    }
   ],
   "source": [
    "Omegas=np.zeros((7,3))\n",
    "\n",
    "for i in range(1,7):\n",
    "    Angle=i*10\n",
    "    w=Resample(data.query(\"angle==@Angle\"))\n",
    "    Omegas[i-1,0]=Angle\n",
    "    Omegas[i-1,1]=w[0]*1e5\n",
    "    Omegas[i-1,2]=w[2]\n",
    "\n",
    "Omegas[6,0]=70\n",
    "wc=Resample(data)\n",
    "Omegas[6,1]=wc[0]*1e5\n",
    "Omegas[6,2]=wc[2]\n",
    "\n",
    "Omegas"
   ]
  },
  {
   "cell_type": "code",
   "execution_count": 59,
   "metadata": {},
   "outputs": [
    {
     "data": {
      "text/plain": [
       "<matplotlib.legend.Legend at 0x1af92a4f310>"
      ]
     },
     "execution_count": 59,
     "metadata": {},
     "output_type": "execute_result"
    },
    {
     "data": {
      "image/png": "[encoded data removed]",
      "text/plain": [
       "<Figure size 640x480 with 1 Axes>"
      ]
     },
     "metadata": {},
     "output_type": "display_data"
    }
   ],
   "source": [
    "fig3=plt.figure()\n",
    "ax3=fig3.add_subplot()\n",
    "ax3.axhline(y=7.27,ls=\"--\",color=\"r\",label=\"Dia solar\")\n",
    "ax3.errorbar(Omegas[:,0],Omegas[:,1],yerr=Omegas[:,2]*Omegas[:,1],fmt=\".\",color=\"k\")\n",
    "ax3.scatter(Omegas[:,0],Omegas[:,1],color=\"g\",label=\"Coriolis\")\n",
    "ax3.set_ylabel(\"wx10^-5\")\n",
    "ax3.legend()\n"
   ]
  }
 ],
 "metadata": {
  "kernelspec": {
   "display_name": "Python 3",
   "language": "python",
   "name": "python3"
  },
  "language_info": {
   "codemirror_mode": {
    "name": "ipython",
    "version": 3
   },
   "file_extension": ".py",
   "mimetype": "text/x-python",
   "name": "python",
   "nbconvert_exporter": "python",
   "pygments_lexer": "ipython3",
   "version": "3.11.3"
  },
  "orig_nbformat": 4
 },
 "nbformat": 4,
 "nbformat_minor": 2
}
