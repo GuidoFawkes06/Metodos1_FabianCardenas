{
 "cells": [
  {
   "cell_type": "code",
   "execution_count": null,
   "metadata": {},
   "outputs": [],
   "source": [
    "import numpy as np\n",
    "import matplotlib.pyplot as plt\n",
    "import sympy as sym"
   ]
  },
  {
   "cell_type": "code",
   "execution_count": null,
   "metadata": {},
   "outputs": [],
   "source": [
    "x=sym.Symbol(\"x\",real=True)\n",
    "h=sym.Symbol(\"h\",real=True)\n",
    "x0=sym.symbols(\"x0\",real=True)\n",
    "x1=sym.symbols(\"x1\",real=True)\n",
    "x2=sym.symbols(\"x2\",real=True)\n",
    "f0=sym.symbols(\"f0\",real=True)\n",
    "f1=sym.symbols(\"f1\",real=True)\n",
    "f2=sym.symbols(\"f2\",real=True)"
   ]
  },
  {
   "cell_type": "code",
   "execution_count": null,
   "metadata": {},
   "outputs": [],
   "source": [
    "X=[x0,x1,x2]\n",
    "Y=[f0,f1,f2]"
   ]
  },
  {
   "cell_type": "code",
   "execution_count": null,
   "metadata": {},
   "outputs": [],
   "source": [
    "def Lagrange(x,xi,j):\n",
    "    \n",
    "    prod = 1.0\n",
    "    n = len(xi)\n",
    "    \n",
    "    for i in range(n):\n",
    "        if i != j:\n",
    "            prod *= (x - xi[i])/(xi[j]-xi[i])\n",
    "            \n",
    "    return prod"
   ]
  },
  {
   "cell_type": "code",
   "execution_count": null,
   "metadata": {},
   "outputs": [],
   "source": [
    "def Interpolate(x,xi,yi):\n",
    "    \n",
    "    Sum = 0.\n",
    "    n = len(xi)\n",
    "    \n",
    "    for j in range(n):\n",
    "        Sum += yi[j]*Lagrange(x,xi,j)\n",
    "        \n",
    "    return Sum"
   ]
  },
  {
   "cell_type": "code",
   "execution_count": null,
   "metadata": {},
   "outputs": [],
   "source": [
    "f=Interpolate(x,X,Y)"
   ]
  },
  {
   "cell_type": "code",
   "execution_count": null,
   "metadata": {},
   "outputs": [],
   "source": [
    "DerivadaProgesiva=sym.diff(f,x,1)"
   ]
  },
  {
   "cell_type": "code",
   "execution_count": null,
   "metadata": {},
   "outputs": [],
   "source": [
    "DerivadaProgesiva=DerivadaProgesiva.subs(x,x0)\n",
    "DerivadaProgesiva=DerivadaProgesiva.subs([(x1,x0+h),(x2,x0+2*h)])\n",
    "print(DerivadaProgesiva)"
   ]
  },
  {
   "cell_type": "code",
   "execution_count": null,
   "metadata": {},
   "outputs": [],
   "source": [
    "def derivadaTeorica(f,x,h):\n",
    "    return (-3*f(x)+4*f(x+h)-f(x+2*h))/(2*h)"
   ]
  },
  {
   "cell_type": "code",
   "execution_count": null,
   "metadata": {},
   "outputs": [],
   "source": [
    "def function(x):\n",
    "    return np.sqrt(np.tan(x))"
   ]
  },
  {
   "cell_type": "code",
   "execution_count": null,
   "metadata": {},
   "outputs": [],
   "source": [
    "def derivada_Central(f,x,h):\n",
    "    d=0.\n",
    "    if h!=0:\n",
    "        d=(f(x+h)-f(x-h))/(2*h)\n",
    "    return d"
   ]
  },
  {
   "cell_type": "code",
   "execution_count": null,
   "metadata": {},
   "outputs": [],
   "source": [
    "x=np.linspace(0.1,1.1,100)\n",
    "h=0.01\n",
    "y=function(x)"
   ]
  },
  {
   "cell_type": "code",
   "execution_count": null,
   "metadata": {},
   "outputs": [],
   "source": [
    "dx=DerivadaProgesiva(function, x, h)\n",
    "\n",
    "edx=(np.cos(x)**(-2))/(2*np.sqrt(np.tan(x)))\n",
    "cdx=derivada_Central(function,x,h)"
   ]
  },
  {
   "cell_type": "code",
   "execution_count": null,
   "metadata": {},
   "outputs": [],
   "source": [
    "fig1=plt.figure()\n",
    "\n",
    "ax1=fig1.add_subplot(231)\n",
    "\n",
    "ax1.scatter(x,edx,c=\"b\",label=\"Derivada Analitica\")\n",
    "\n",
    "ax1.legend()\n",
    "\n",
    "ax2=fig1.add_subplot(233)\n",
    "\n",
    "ax2.scatter(x,dx,c=\"r\",label=\"Derivada Progresiva\")\n",
    "\n",
    "ax2.legend()\n",
    "\n",
    "ax3=fig1.add_subplot(232)\n",
    "\n",
    "ax3.scatter(x,cdx,c=\"k\",label=\"Derivada Central\")\n",
    "\n",
    "ax3.legend()\n",
    "\"\"\"\n",
    "fig2=plt.figure()\n",
    "\"\"\"\n",
    "ax4=fig1.add_subplot(212)\n",
    "\n",
    "ax4.scatter(x,cdx-edx,c=\"b\",label=\"Error Derivada central\")\n",
    "\n",
    "\n",
    "\n",
    "ax4.scatter(x,dx-edx,c=\"r\",label=\"Error Derivada Progresiva\")\n",
    "\n",
    "ax4.legend()"
   ]
  }
 ],
 "metadata": {
  "language_info": {
   "name": "python"
  },
  "orig_nbformat": 4
 },
 "nbformat": 4,
 "nbformat_minor": 2
}
