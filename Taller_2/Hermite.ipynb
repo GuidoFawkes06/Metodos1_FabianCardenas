{
 "cells": [
  {
   "cell_type": "code",
   "execution_count": null,
   "metadata": {},
   "outputs": [],
   "source": [
    "import numpy as np\n",
    "import matplotlib.pyplot as plt\n",
    "from scipy import integrate\n",
    "import sympy as sym"
   ]
  },
  {
   "cell_type": "code",
   "execution_count": null,
   "metadata": {},
   "outputs": [],
   "source": [
    "def GetNewton(f,df,xn,itmax=1000,precision=1e-12):\n",
    "    \n",
    "    error = 1.\n",
    "    it = 0\n",
    "    \n",
    "    while error >= precision and it < itmax:\n",
    "        \n",
    "        try:\n",
    "            \n",
    "            xn1 = xn - f(xn)/df(xn)\n",
    "            \n",
    "            error = np.abs(f(xn)/df(xn))\n",
    "            \n",
    "        except ZeroDivisionError:\n",
    "            print('Zero Division')\n",
    "            \n",
    "        xn = xn1\n",
    "        it += 1\n",
    "        \n",
    "    if it == itmax:\n",
    "        return False\n",
    "    else:\n",
    "        return xn"
   ]
  },
  {
   "cell_type": "code",
   "execution_count": null,
   "metadata": {},
   "outputs": [],
   "source": [
    "def GetRoots(f,df,x,tolerancia = 10):\n",
    "    \n",
    "    Roots = np.array([])\n",
    "    \n",
    "    for i in x: \n",
    "        root = GetNewton(f,df,i)\n",
    "        if root != False:\n",
    "            croot = np.round( root, tolerancia )\n",
    "            \n",
    "            if croot not in Roots:\n",
    "                Roots = np.append(Roots, croot)\n",
    "                \n",
    "    Roots.sort()\n",
    "    \n",
    "    return Roots"
   ]
  },
  {
   "cell_type": "code",
   "execution_count": null,
   "metadata": {},
   "outputs": [],
   "source": [
    "x=sym.Symbol(\"x\",real=True)\n",
    "y=sym.Symbol(\"x\",real=True)"
   ]
  },
  {
   "cell_type": "code",
   "execution_count": null,
   "metadata": {},
   "outputs": [],
   "source": [
    "def GetHermite(x,y,n):\n",
    "    \n",
    "    y=sym.exp(-(x**2))\n",
    "    \n",
    "    Pol=sym.exp(x**2)*sym.diff(y,x,n)\n",
    "    Pol=(-1)**n * Pol\n",
    "    \n",
    "    return sym.simplify(Pol)"
   ]
  },
  {
   "cell_type": "code",
   "execution_count": null,
   "metadata": {},
   "outputs": [],
   "source": [
    "Hermite=[]\n",
    "DevHermite=[]\n",
    "deg=20"
   ]
  },
  {
   "cell_type": "code",
   "execution_count": null,
   "metadata": {},
   "outputs": [],
   "source": [
    "for i in range(0,deg+1):\n",
    "    \n",
    "    Pol=GetHermite(x,y,i)\n",
    "    DevPol=sym.diff(Pol,x,1)\n",
    "    Hermite.append(Pol)\n",
    "    DevHermite.append(DevPol)"
   ]
  },
  {
   "cell_type": "code",
   "execution_count": null,
   "metadata": {},
   "outputs": [],
   "source": [
    "def GetAllRoots(grado,xn,Hermite,DevHermite):\n",
    "    \n",
    "    pol = sym.lambdify([x],Hermite[grado],'numpy')\n",
    "    Devpol = sym.lambdify([x],DevHermite[grado],'numpy')\n",
    "    Roots = GetRoots(pol,Devpol,xn)\n",
    "    \n",
    "    return Roots"
   ]
  },
  {
   "cell_type": "code",
   "execution_count": null,
   "metadata": {},
   "outputs": [],
   "source": [
    "def Get_Weights(xi,n):\n",
    "    \n",
    "    Hn= sym.lambdify([x],Hermite[n-1],'numpy')\n",
    "    \n",
    "    num=2**(n-1)*np.math.factorial(n)*np.sqrt(np.pi)\n",
    "    den=n**2*Hn(xi)**2\n",
    "    \n",
    "    return num/den"
   ]
  },
  {
   "cell_type": "code",
   "execution_count": null,
   "metadata": {},
   "outputs": [],
   "source": [
    "xn=np.linspace(-10,10,100)\n",
    "NumRoots=(GetAllRoots(deg,xn,Hermite,DevHermite))\n",
    "NumWeights=Get_Weights(NumRoots,deg)\n",
    "Np_Roots,Np_Weights = np.polynomial.hermite.hermgauss(deg)"
   ]
  },
  {
   "cell_type": "code",
   "execution_count": null,
   "metadata": {},
   "outputs": [],
   "source": [
    "for i in range(len(NumRoots)):\n",
    "    print(NumRoots[i],NumWeights[i])"
   ]
  },
  {
   "cell_type": "code",
   "execution_count": null,
   "metadata": {},
   "outputs": [],
   "source": [
    "plt.scatter(NumRoots,NumWeights)\n",
    "plt.xlabel(\"Raices\")\n",
    "plt.ylabel(\"Pesos\")\n",
    "plt.show()"
   ]
  },
  {
   "cell_type": "code",
   "execution_count": null,
   "metadata": {},
   "outputs": [],
   "source": [
    "def integrate_Hermite(f,a,b,n,Rootsi,Weightsi):\n",
    "    t=Rootsi\n",
    "    integral=np.sum(Weightsi*f(t,n)*np.exp(t**2))\n",
    "    \n",
    "    return integral"
   ]
  },
  {
   "cell_type": "code",
   "execution_count": null,
   "metadata": {},
   "outputs": [],
   "source": [
    "def function(xn,n):\n",
    "    Hn= sym.lambdify([x],Hermite[n],'numpy')    \n",
    "    psi=(np.pi**(-1/4)*np.exp(-xn**2/2)*Hn(xn))/(np.sqrt(2**n * np.math.factorial(n)))\n",
    "\n",
    "    return np.abs(psi)**2 *xn**2"
   ]
  },
  {
   "cell_type": "code",
   "execution_count": null,
   "metadata": {},
   "outputs": [],
   "source": [
    "a=-100000\n",
    "b=100000\n",
    "\n",
    "Integral=integrate_Hermite(function,a,b,1,NumRoots,NumWeights)"
   ]
  },
  {
   "cell_type": "code",
   "execution_count": null,
   "metadata": {},
   "outputs": [],
   "source": [
    "print(\"Al usar Gauss-Hermite la aproximación de la integral es\",Integral)"
   ]
  }
 ],
 "metadata": {
  "language_info": {
   "name": "python"
  },
  "orig_nbformat": 4
 },
 "nbformat": 4,
 "nbformat_minor": 2
}
