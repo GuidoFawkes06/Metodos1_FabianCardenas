{
 "cells": [
  {
   "cell_type": "code",
   "execution_count": null,
   "metadata": {},
   "outputs": [],
   "source": [
    "import numpy as np\n",
    "import matplotlib.pyplot as plt\n",
    "import sympy as sym"
   ]
  },
  {
   "cell_type": "code",
   "execution_count": null,
   "metadata": {},
   "outputs": [],
   "source": [
    "def GetNewton(f,df,xn,itmax=1000,precision=1e-12):\n",
    "    \n",
    "    error = 1.\n",
    "    it = 0\n",
    "    \n",
    "    while error >= precision and it < itmax:\n",
    "        \n",
    "        try:\n",
    "            \n",
    "            xn1 = xn - f(xn)/df(xn)\n",
    "            \n",
    "            error = np.abs(f(xn)/df(xn))\n",
    "            \n",
    "        except ZeroDivisionError:\n",
    "            print('Zero Division')\n",
    "            \n",
    "        xn = xn1\n",
    "        it += 1\n",
    "        \n",
    "    if it == itmax:\n",
    "        return False\n",
    "    else:\n",
    "        return xn"
   ]
  },
  {
   "cell_type": "code",
   "execution_count": null,
   "metadata": {},
   "outputs": [],
   "source": [
    "def GetRoots(f,df,x,tolerancia = 10):\n",
    "    \n",
    "    Roots = np.array([])\n",
    "    \n",
    "    for i in x:\n",
    "        \n",
    "        root = GetNewton(f,df,i)\n",
    "        \n",
    "        if root != False:\n",
    "            \n",
    "            croot = np.round( root, tolerancia )\n",
    "            \n",
    "            if croot not in Roots:\n",
    "                Roots = np.append(Roots, croot)\n",
    "                \n",
    "    Roots.sort()\n",
    "    \n",
    "    return Roots"
   ]
  },
  {
   "cell_type": "code",
   "execution_count": null,
   "metadata": {},
   "outputs": [],
   "source": [
    "n=10\n",
    "\n",
    "Roots1,Weights1=np.polynomial.laguerre.laggauss(n)\n",
    "\n",
    "x=sym.Symbol(\"x\",real=True)\n",
    "y=sym.Symbol(\"y\",real=True)"
   ]
  },
  {
   "cell_type": "code",
   "execution_count": null,
   "metadata": {},
   "outputs": [],
   "source": [
    "def GetLaguerre(n,x,y):\n",
    "    \n",
    "    y=(x**n)*(sym.exp(-x))\n",
    "    \n",
    "    pol=sym.diff(y,x,n)/(np.math.factorial(n))\n",
    "    \n",
    "    return pol*(sym.exp(x))"
   ]
  },
  {
   "cell_type": "code",
   "execution_count": null,
   "metadata": {},
   "outputs": [],
   "source": [
    "Laguerre=[]\n",
    "DevLaguerre=[]\n",
    "\n",
    "for i in range(n+2):\n",
    "    Pol=GetLaguerre(i,x,y)\n",
    "    Laguerre.append(Pol)\n",
    "    DevLaguerre.append(sym.diff(Pol,x,1))"
   ]
  },
  {
   "cell_type": "code",
   "execution_count": null,
   "metadata": {},
   "outputs": [],
   "source": [
    "def GetAllRoots(grado,xn,Laguerre,DevLaguerre):\n",
    "    \n",
    "    pol = sym.lambdify([x],Laguerre[grado],'numpy')\n",
    "    Dpol = sym.lambdify([x],DevLaguerre[grado],'numpy')\n",
    "    Roots = GetRoots(pol,Dpol,xn)\n",
    "    \n",
    "    return Roots"
   ]
  },
  {
   "cell_type": "code",
   "execution_count": null,
   "metadata": {},
   "outputs": [],
   "source": [
    "xn = np.linspace(0,100,100)"
   ]
  },
  {
   "cell_type": "code",
   "execution_count": null,
   "metadata": {},
   "outputs": [],
   "source": [
    "def GetWeights(Roots,Laguerre,grado):\n",
    "    \n",
    "    Pol = sym.lambdify([x],Laguerre[grado+1],'numpy')\n",
    "    Weights= Roots/(((grado+1)**2)*Pol(Roots)**2)\n",
    "    \n",
    "    return Weights"
   ]
  },
  {
   "cell_type": "code",
   "execution_count": null,
   "metadata": {},
   "outputs": [],
   "source": [
    "a=0\n",
    "b=100\n",
    "f=lambda x:(x**3)/(np.exp(x)-1)"
   ]
  },
  {
   "cell_type": "code",
   "execution_count": null,
   "metadata": {},
   "outputs": [],
   "source": [
    "def integrate_Laguerre(f,a,b,grado):\n",
    "    \n",
    "    Rootsi=GetAllRoots(grado,xn,Laguerre,DevLaguerre)\n",
    "    \n",
    "  \n",
    "    Weightsi=GetWeights(Rootsi,Laguerre,grado)\n",
    "    \n",
    "    \n",
    "    t=Rootsi+a\n",
    "\n",
    "    integral=np.sum(Weightsi*np.exp(t)*f(t))\n",
    "    \n",
    "    return integral"
   ]
  },
  {
   "cell_type": "code",
   "execution_count": null,
   "metadata": {},
   "outputs": [],
   "source": [
    "Integral_n_3=integrate_Laguerre(f,a,b,3)"
   ]
  },
  {
   "cell_type": "code",
   "execution_count": null,
   "metadata": {},
   "outputs": [],
   "source": [
    "print(\"La aproximacion cuando tenemos n=3 es:\",Integral_n_3)"
   ]
  },
  {
   "cell_type": "code",
   "execution_count": null,
   "metadata": {},
   "outputs": [],
   "source": [
    "I=(np.pi**4)/15\n",
    "error=np.array([])\n",
    "n_=np.arange(2,n+1)\n",
    "for i in range(2,n+1):\n",
    "    integral=integrate_Laguerre(f,a,b,i)\n",
    "    \n",
    "    error=np.append(error,integral/I)"
   ]
  },
  {
   "cell_type": "code",
   "execution_count": null,
   "metadata": {},
   "outputs": [],
   "source": [
    "plt.axhline(y=1,color=\"r\",linestyle=\"--\")\n",
    "plt.grid(visible=True)\n",
    "plt.scatter(n_,error,color=\"b\",label=\"Precision de cuadratura de Laguerre\")\n",
    "plt.legend()"
   ]
  }
 ],
 "metadata": {
  "language_info": {
   "name": "python"
  },
  "orig_nbformat": 4
 },
 "nbformat": 4,
 "nbformat_minor": 2
}
