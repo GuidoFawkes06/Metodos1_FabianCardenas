{
 "cells": [
  {
   "cell_type": "code",
   "execution_count": null,
   "metadata": {},
   "outputs": [],
   "source": [
    "import numpy as np\n",
    "import matplotlib.pyplot as plt\n",
    "import urllib.request\n",
    "import pandas as pd\n",
    "import sympy as sym"
   ]
  },
  {
   "cell_type": "code",
   "execution_count": null,
   "metadata": {},
   "outputs": [],
   "source": [
    "url =\"https://raw.githubusercontent.com/asegura4488/Database/main/MetodosComputacionalesReforma/InterpolacionNewtonNoequi.csv\"\n",
    "filename = \"Data\\Interpolacion_Newton.txt\"\n",
    "urllib.request.urlretrieve(url, filename)"
   ]
  },
  {
   "cell_type": "code",
   "execution_count": null,
   "metadata": {},
   "outputs": [],
   "source": [
    "Data = pd.read_csv(filename)\n",
    "X = np.float64(Data.X)\n",
    "Y = np.float64(Data.Y)"
   ]
  },
  {
   "cell_type": "code",
   "execution_count": null,
   "metadata": {},
   "outputs": [],
   "source": [
    "def Diferencia_dividida(X, Y):   \n",
    "    Diff = np.zeros([len(X), len(X)])\n",
    "   \n",
    "    Diff[:,0] = Y\n",
    "    \n",
    "    for j in range(1,len(X)):\n",
    "        for i in range(len(X)-j):\n",
    "            Diff[i][j] = (Diff[i+1][j-1] - Diff[i][j-1]) / (X[i+j]-X[i])\n",
    "                \n",
    "    return Diff"
   ]
  },
  {
   "cell_type": "code",
   "execution_count": null,
   "metadata": {},
   "outputs": [],
   "source": [
    "def Interpolar(Diff, X, xn):\n",
    "    \n",
    "    n = len(X) - 1 \n",
    "    p = Diff[n]\n",
    "    for k in range(1,n+1):\n",
    "        p = Diff[n-k] + (xn -X[n-k])*p\n",
    "    return p"
   ]
  },
  {
   "cell_type": "code",
   "execution_count": null,
   "metadata": {},
   "outputs": [],
   "source": [
    "Coeficientes = Diferencia_dividida(X, Y)[0, :]\n",
    "xn=np.linspace(X[0],X[-1],100)\n",
    "yn = Interpolar(Coeficientes, X, xn)"
   ]
  },
  {
   "cell_type": "code",
   "execution_count": null,
   "metadata": {},
   "outputs": [],
   "source": [
    "x=sym.Symbol(\"x\",real=True)"
   ]
  },
  {
   "cell_type": "code",
   "execution_count": null,
   "metadata": {},
   "outputs": [],
   "source": [
    "polInterpolador=Interpolar(Coeficientes,X,x)\n",
    "polInterpolador=sym.simplify(polInterpolador)"
   ]
  },
  {
   "cell_type": "code",
   "execution_count": null,
   "metadata": {},
   "outputs": [],
   "source": [
    "print(\"El polinomio el cual interpola los puntos es:\",polInterpolador)"
   ]
  },
  {
   "cell_type": "code",
   "execution_count": null,
   "metadata": {},
   "outputs": [],
   "source": [
    "plt.scatter(X, Y,c=\"g\",label=\"Data\")\n",
    "plt.plot(xn, yn,c=\"b\",label=\"Interpolación\")\n",
    "plt.legend()"
   ]
  }
 ],
 "metadata": {
  "language_info": {
   "name": "python"
  },
  "orig_nbformat": 4
 },
 "nbformat": 4,
 "nbformat_minor": 2
}
