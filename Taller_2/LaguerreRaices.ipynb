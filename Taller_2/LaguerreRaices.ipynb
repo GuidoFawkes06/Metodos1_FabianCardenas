{
 "cells": [
  {
   "cell_type": "code",
   "execution_count": null,
   "metadata": {},
   "outputs": [],
   "source": [
    "import sympy as sym\n",
    "import numpy as np\n",
    "import matplotlib.pyplot as plt"
   ]
  },
  {
   "cell_type": "code",
   "execution_count": null,
   "metadata": {},
   "outputs": [],
   "source": [
    "x = sym.Symbol('x')\n",
    "y = sym.Symbol('y')\n",
    "n = 20"
   ]
  },
  {
   "cell_type": "code",
   "execution_count": null,
   "metadata": {},
   "outputs": [],
   "source": [
    "all_roots = []"
   ]
  },
  {
   "cell_type": "code",
   "execution_count": null,
   "metadata": {},
   "outputs": [],
   "source": [
    "def GetLaguerre(n,x,y):\n",
    "    \n",
    "    y=(x**n)*(sym.exp(-x))\n",
    "    \n",
    "    poly=sym.diff(y,x,n)/(np.math.factorial(n))\n",
    "    \n",
    "    return poly*(sym.exp(x))"
   ]
  },
  {
   "cell_type": "code",
   "execution_count": null,
   "metadata": {},
   "outputs": [],
   "source": [
    "Laguerre=[]\n",
    "DevLaguerre=[]"
   ]
  },
  {
   "cell_type": "code",
   "execution_count": null,
   "metadata": {},
   "outputs": [],
   "source": [
    "for j in range(1,n+1):\n",
    "    Pol=GetLaguerre(j,x,y)\n",
    "    Pol=sym.simplify(Pol)\n",
    "    DevPol=sym.diff(Pol,x,1)\n",
    "    Laguerre.append(Pol)\n",
    "    DevLaguerre.append(DevPol)"
   ]
  },
  {
   "cell_type": "code",
   "execution_count": null,
   "metadata": {},
   "outputs": [],
   "source": [
    "def GetNewtonRhapson(f,df,xn,itmax=100,precision=1e-14): \n",
    "    error=1\n",
    "    it=0     \n",
    "    while error > precision and it<=itmax:\n",
    "        \n",
    "          try:\n",
    "            xn1=xn-f(xn)/df(xn)\n",
    "            error=np.abs(f(xn)/df(xn))\n",
    "            \n",
    "          except ZeroDivisionError:\n",
    "            print(\"division por cero\")            \n",
    "         \n",
    "          it+=1\n",
    "          xn=xn1\n",
    "          \n",
    "    if it == itmax:\n",
    "        False\n",
    "    else:\n",
    "        return xn\n",
    "    return xn"
   ]
  },
  {
   "cell_type": "code",
   "execution_count": null,
   "metadata": {},
   "outputs": [],
   "source": [
    "def GetAllRoots(n, xn, tolerancia=5):\n",
    "    Roots = np.array([])\n",
    "    func = sym.lambdify([x], Laguerre[n], 'numpy')\n",
    "    dfunc = sym.lambdify([x], DevLaguerre[n], 'numpy')\n",
    "    Roots = np.array([])\n",
    "    \n",
    "    for i in xn:\n",
    "        root = GetNewtonRhapson(func,dfunc,i)\n",
    "        \n",
    "        if root != False:\n",
    "            croot = np.round( root, tolerancia )\n",
    "            \n",
    "            if croot not in Roots:\n",
    "                Roots = np.append(Roots, croot)\n",
    "                \n",
    "    Roots.sort()\n",
    "    return Roots"
   ]
  },
  {
   "cell_type": "code",
   "execution_count": null,
   "metadata": {},
   "outputs": [],
   "source": [
    "xn = np.linspace(0,100,200)\n",
    "for i in range(1,n):\n",
    "  Roots = GetAllRoots(i,xn)\n",
    "  print((Roots))"
   ]
  }
 ],
 "metadata": {
  "language_info": {
   "name": "python"
  },
  "orig_nbformat": 4
 },
 "nbformat": 4,
 "nbformat_minor": 2
}
