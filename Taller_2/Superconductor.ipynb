{
 "cells": [
  {
   "cell_type": "code",
   "execution_count": null,
   "metadata": {},
   "outputs": [],
   "source": [
    "import numpy as np\n",
    "from scipy import integrate"
   ]
  },
  {
   "cell_type": "code",
   "execution_count": null,
   "metadata": {},
   "outputs": [],
   "source": [
    "def funcion(x,T,deltaT):\n",
    "    t=(np.sqrt(x**2+deltaT**2))\n",
    "    f=np.tanh(t*(300./(2*T)))\n",
    "    \n",
    "    return 0.5*(f/t)"
   ]
  },
  {
   "cell_type": "code",
   "execution_count": null,
   "metadata": {},
   "outputs": [],
   "source": [
    "Roots,Weights=np.polynomial.legendre.leggauss(20)"
   ]
  },
  {
   "cell_type": "code",
   "execution_count": null,
   "metadata": {},
   "outputs": [],
   "source": [
    "def Integrate(Rootsi,Weightsi,f,a,b,T,deltaT=0):\n",
    "    t=0.5*((b-a)*Rootsi+a+b)\n",
    "    integral=0.5*(b-a)*np.sum(Weightsi*f(t,T,deltaT))\n",
    "    \n",
    "    return integral"
   ]
  },
  {
   "cell_type": "code",
   "execution_count": null,
   "metadata": {},
   "outputs": [],
   "source": [
    "def Critical_temp(rango):\n",
    "    Tn=np.linspace(1,rango,100000)\n",
    "    N0V=0.3\n",
    "    for i in range(len(Tn)):\n",
    "      Tc=Tn[i]\n",
    "      I=Integrate(Roots,Weights,funcion,-1,1,Tc)\n",
    "        \n",
    "      if  np.abs(I-(1/(N0V))) < 1e-5: \n",
    "         return Tc"
   ]
  },
  {
   "cell_type": "code",
   "execution_count": null,
   "metadata": {},
   "outputs": [],
   "source": [
    "Tc=Critical_temp(21)   \n",
    "I=Integrate(Roots,Weights,funcion,-1,1,Tc,0)\n",
    "Int=integrate.fixed_quad(funcion,-1,1,args=(Tc,0),n=20)\n",
    "print(Tc)\n"
   ]
  }
 ],
 "metadata": {
  "kernelspec": {
   "display_name": "Python 3",
   "language": "python",
   "name": "python3"
  },
  "language_info": {
   "name": "python",
   "version": "3.11.2"
  },
  "orig_nbformat": 4
 },
 "nbformat": 4,
 "nbformat_minor": 2
}
