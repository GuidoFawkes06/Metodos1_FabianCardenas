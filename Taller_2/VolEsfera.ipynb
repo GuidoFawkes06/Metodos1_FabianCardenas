{
 "cells": [
  {
   "cell_type": "code",
   "execution_count": null,
   "metadata": {},
   "outputs": [],
   "source": [
    "import numpy as np\n",
    "import matplotlib.pyplot as plt\n",
    "from mpl_toolkits.mplot3d import axes3d\n",
    "import sympy as sym\n",
    "from tqdm import tqdm"
   ]
  },
  {
   "cell_type": "code",
   "execution_count": null,
   "metadata": {},
   "outputs": [],
   "source": [
    "n = 200\n",
    "R = 1\n",
    "x = np.linspace(-R,R,n+1)\n",
    "y = np.linspace(-R,R,n+1)"
   ]
  },
  {
   "cell_type": "code",
   "execution_count": null,
   "metadata": {},
   "outputs": [],
   "source": [
    "def f(x,y,R=1): \n",
    "    z = R**2 - x**2 - y**2\n",
    "    if z <= 0.:\n",
    "        return 0.\n",
    "    else:\n",
    "        return np.sqrt(z)"
   ]
  },
  {
   "cell_type": "code",
   "execution_count": null,
   "metadata": {},
   "outputs": [],
   "source": [
    "f = np.vectorize(f)\n",
    "X,Y = np.meshgrid(x,y)\n",
    "Z = f(X,Y)\n",
    "fig = plt.figure()\n",
    "ax = fig.add_subplot(111,projection='3d')\n",
    "ax.plot_surface(X,Y,Z)"
   ]
  },
  {
   "cell_type": "code",
   "execution_count": null,
   "metadata": {},
   "outputs": [],
   "source": [
    "def Integrate(X,Y,R,f):\n",
    "    area=(X[0,1]-(X[0,0]))**2\n",
    "    integral=0\n",
    "    for i in tqdm(range(n)):\n",
    "        for j in range(n):   \n",
    "            prom=f(X[i,j],Y[i,j])+f(X[i+1,j],Y[i+1,j])+f(X[i,j+1],Y[i,j+1])+f(X[i+1,j+1],Y[i+1,j+1]) \n",
    "            prom=prom/4\n",
    "            integral+=prom*area\n",
    "    \n",
    "    return integral"
   ]
  },
  {
   "cell_type": "code",
   "execution_count": null,
   "metadata": {},
   "outputs": [],
   "source": [
    "Volumen_num=Integrate(X,Y,R,f)\n",
    "Volumen_exacto=2/3 *np.pi*R**3"
   ]
  },
  {
   "cell_type": "code",
   "execution_count": null,
   "metadata": {},
   "outputs": [],
   "source": [
    "print(\"El Volumen de la semiesfera (aproximadamente) es:\",Volumen_num)"
   ]
  }
 ],
 "metadata": {
  "language_info": {
   "name": "python"
  },
  "orig_nbformat": 4
 },
 "nbformat": 4,
 "nbformat_minor": 2
}
