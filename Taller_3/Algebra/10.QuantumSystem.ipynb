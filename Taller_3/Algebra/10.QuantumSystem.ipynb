{
 "cells": [
  {
   "attachments": {},
   "cell_type": "markdown",
   "metadata": {},
   "source": [
    "Quantum system - ground state: Un sistema cuántico de tres niveles está descrito por el siguiente Hamiltoniano:\n",
    "$$H=\\left(\n",
    "\\begin{array}{ccc}\n",
    "1 & 2 & -1\\\\\n",
    "1 & 0 & 1\\\\\n",
    "4 & -4 & 5\\\\\n",
    "\\end{array}\n",
    "\\right)$$\n",
    "Implemente el algoritmo de la potencia inversa para encontrar el valor del estado base E0 y su vector propio.\n",
    "$$E_0 = 1 y | \\psi_0 >= [0.40824829; -0.40824829; -0.81649658]$$"
   ]
  },
  {
   "cell_type": "code",
   "execution_count": 1,
   "metadata": {},
   "outputs": [],
   "source": [
    "import numpy as np"
   ]
  },
  {
   "cell_type": "code",
   "execution_count": 2,
   "metadata": {},
   "outputs": [
    {
     "data": {
      "text/plain": [
       "(array([3., 2., 1.]),\n",
       " array([[-0.23570226,  0.43643578,  0.40824829],\n",
       "        [ 0.23570226, -0.21821789, -0.40824829],\n",
       "        [ 0.94280904, -0.87287156, -0.81649658]]))"
      ]
     },
     "execution_count": 2,
     "metadata": {},
     "output_type": "execute_result"
    }
   ],
   "source": [
    "H=np.array([[1,2,-1],[1,0,1],[4,-4,5]])\n",
    "np.linalg.eig(H)"
   ]
  },
  {
   "cell_type": "code",
   "execution_count": 3,
   "metadata": {},
   "outputs": [],
   "source": [
    "def EigValue(H,c=0,itmax=1000,tolerancia=1e-16):\n",
    "    n = H.shape[0]\n",
    "    H=np.linalg.inv(H)\n",
    "    v0 = np.zeros(n)\n",
    "    v0[c] = 1.\n",
    "    lambda1 = 0.\n",
    "    \n",
    "    for k in range(itmax):\n",
    "        \n",
    "        v1 = np.dot(H,v0)\n",
    "        v1 = v1/np.linalg.norm(v1) # Normaliza\n",
    "        \n",
    "        v2 = np.dot(H,v1)\n",
    "        v2 = v2/np.linalg.norm(v1)\n",
    "        \n",
    "        lambda0 = lambda1\n",
    "        lambda1 = v2[0]/v1[0]\n",
    "        \n",
    "        v0 = v2\n",
    "        \n",
    "        if np.abs(lambda0 - lambda1) <= tolerancia:\n",
    "            break\n",
    "            \n",
    "    return lambda1,v1"
   ]
  },
  {
   "cell_type": "code",
   "execution_count": 4,
   "metadata": {},
   "outputs": [],
   "source": [
    "value1,vector1 = EigValue(H)"
   ]
  },
  {
   "cell_type": "code",
   "execution_count": 5,
   "metadata": {},
   "outputs": [
    {
     "name": "stdout",
     "output_type": "stream",
     "text": [
      "El valor propio mas pequeño es 0.9999999999999999\n",
      "Su vector asociado son: [ 0.40824829 -0.40824829 -0.81649658]\n"
     ]
    }
   ],
   "source": [
    "print(f\"El valor propio mas pequeño es {value1}\")\n",
    "print(f\"Su vector asociado son: {vector1}\")"
   ]
  }
 ],
 "metadata": {
  "kernelspec": {
   "display_name": "Python 3",
   "language": "python",
   "name": "python3"
  },
  "language_info": {
   "codemirror_mode": {
    "name": "ipython",
    "version": 3
   },
   "file_extension": ".py",
   "mimetype": "text/x-python",
   "name": "python",
   "nbconvert_exporter": "python",
   "pygments_lexer": "ipython3",
   "version": "3.11.3"
  },
  "orig_nbformat": 4
 },
 "nbformat": 4,
 "nbformat_minor": 2
}
