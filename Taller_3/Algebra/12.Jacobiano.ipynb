{
 "cells": [
  {
   "attachments": {},
   "cell_type": "markdown",
   "metadata": {},
   "source": [
    "(Jacobiano de cuarto orden) Usando el operador derivada central de orden O(h4) es posible mejorar la estimación del Jacobiano para funciones vectoriales.\n",
    "\n",
    "(a) Escriba una función que estime el Jacobiano con el operador derivada de orden O(h4).\n",
    "\n",
    "(b) Estime el Jacobiano de la función del problema anterior (5.70) en el punto x = (0.5; 0.5; 0.5) con h = 0.01.\n",
    "\n",
    "(c) Estime el Jacobiano usando la aproximación de orden O(h2) con h = 0.01. Para qué valor de h, el operador de segundo orden igualará en precisión al operador de cuarto orden; verique su intuición en el código."
   ]
  },
  {
   "cell_type": "code",
   "execution_count": 1,
   "metadata": {},
   "outputs": [],
   "source": [
    "import numpy as np"
   ]
  },
  {
   "cell_type": "code",
   "execution_count": 2,
   "metadata": {},
   "outputs": [],
   "source": [
    "def derivada_O4(f,x,y,z,variable,h=0.01):\n",
    "    if variable==0:\n",
    "        d=(1/(12*h)*f(x - 2*h,y,z)-2/(3*h)*f(x-h,y,z)+2/(3*h)*f(x+h,y,z)-1/(12*h)*f(x + 2*h,y,z)) \n",
    "    if variable==1:\n",
    "        d=(1/(12*h)*f(x ,y-2*h,z)-2/(3*h)*f(x,y-h,z)+2/(3*h)*f(x,y+h,z)-1/(12*h)*f(x,y+ 2*h,z))\n",
    "    if variable==2:\n",
    "        d=(1/(12*h)*f(x,y,z-2*h)-2/(3*h)*f(x,y,z-h)+2/(3*h)*f(x,y,z+h)-1/(12*h)*f(x,y,z+ 2*h))\n",
    "    \n",
    "    return d"
   ]
  },
  {
   "cell_type": "code",
   "execution_count": 3,
   "metadata": {},
   "outputs": [],
   "source": [
    "def Get_Jacobian_O4(G,r):\n",
    "    dim=len(G)\n",
    "    Jacobian=np.zeros((dim,dim))\n",
    "    for i in range(dim):\n",
    "        for j in range(dim):\n",
    "            \n",
    "            Jacobian[i,j]=derivada_O4(G[i],r[0],r[1],r[2],j)\n",
    "            \n",
    "    return Jacobian"
   ]
  },
  {
   "cell_type": "code",
   "execution_count": 4,
   "metadata": {},
   "outputs": [],
   "source": [
    "G = (lambda x,y,z: 6*x - 2*np.cos(y*z) - 1., \\\n",
    "    lambda x,y,z: 9*y + np.sqrt(x**2 +np.sin(z) +1.06) + 0.9 , \\\n",
    "    lambda x,y,z: 60*z + 3*np.exp(-1*x*y)+ 10*np.pi +3.)"
   ]
  },
  {
   "cell_type": "code",
   "execution_count": 13,
   "metadata": {},
   "outputs": [],
   "source": [
    "Jacobian_O4=Get_Jacobian_O4(G,[0.5,0.5,0.5])"
   ]
  },
  {
   "cell_type": "code",
   "execution_count": 14,
   "metadata": {},
   "outputs": [
    {
     "name": "stdout",
     "output_type": "stream",
     "text": [
      "Jacobiano de orden 4:\n",
      " [[ 6.          0.24740396  0.24740396]\n",
      " [ 0.37377753  9.          0.32802064]\n",
      " [-1.16820117 -1.16820117 60.        ]]\n"
     ]
    }
   ],
   "source": [
    "print(\"Jacobiano de orden 4:\\n\",Jacobian_O4)"
   ]
  },
  {
   "cell_type": "code",
   "execution_count": 15,
   "metadata": {},
   "outputs": [],
   "source": [
    "def Get_Jacobian_O2(G,r,h=0.01):\n",
    "    dim = len(G)\n",
    "    Jacobian = np.zeros((dim,dim))\n",
    "    for i in range(dim):\n",
    "        Jacobian[i,0] = (G[i]( r[0] + h,r[1],r[2]) - G[i]( r[0] - h,r[1],r[2]))/(2*h)\n",
    "        Jacobian[i,1] = (G[i]( r[0] ,r[1]+h,r[2]) - G[i]( r[0],r[1]-h,r[2]))/(2*h)\n",
    "        Jacobian[i,2] = (G[i]( r[0],r[1],r[2]+h) - G[i]( r[0],r[1],r[2]-h))/(2*h)\n",
    "        \n",
    "    return Jacobian"
   ]
  },
  {
   "cell_type": "code",
   "execution_count": 16,
   "metadata": {},
   "outputs": [],
   "source": [
    "Jacobian_O2=Get_Jacobian_O2(G,[0.5,0.5,0.5])"
   ]
  },
  {
   "cell_type": "code",
   "execution_count": 17,
   "metadata": {},
   "outputs": [
    {
     "name": "stdout",
     "output_type": "stream",
     "text": [
      "Jacobiano de orden 2:\n",
      " [[ 6.          0.24740293  0.24740293]\n",
      " [ 0.37376854  9.          0.32801836]\n",
      " [-1.16820604 -1.16820604 60.        ]]\n"
     ]
    }
   ],
   "source": [
    "print(\"Jacobiano de orden 2:\\n\",Jacobian_O2)"
   ]
  }
 ],
 "metadata": {
  "kernelspec": {
   "display_name": "Python 3",
   "language": "python",
   "name": "python3"
  },
  "language_info": {
   "codemirror_mode": {
    "name": "ipython",
    "version": 3
   },
   "file_extension": ".py",
   "mimetype": "text/x-python",
   "name": "python",
   "nbconvert_exporter": "python",
   "pygments_lexer": "ipython3",
   "version": "3.11.3"
  },
  "orig_nbformat": 4
 },
 "nbformat": 4,
 "nbformat_minor": 2
}
