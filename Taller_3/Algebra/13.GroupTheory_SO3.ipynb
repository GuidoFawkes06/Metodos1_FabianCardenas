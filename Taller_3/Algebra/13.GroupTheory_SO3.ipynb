{
 "cells": [
  {
   "attachments": {},
   "cell_type": "markdown",
   "metadata": {},
   "source": [
    "(Group theory, Sympy) El grupo de rotación SO(3) (special orthogonal dim 3) describe las rotaciones en el espacio. Este grupo tiene el siguiente conjunto de generadores:\n",
    "$$ J_x =\\left(\n",
    "\\begin{array}{ccc}\n",
    "0 & 0 & 0\\\\\n",
    "0 & 0 & -1\\\\\n",
    "0 & 1 & 0\\\\\n",
    "\\end{array}\n",
    "\\right),$$\n",
    "\n",
    "$$ J_y =\\left(\n",
    "\\begin{array}{ccc}\n",
    "0 & 0 & 1\\\\\n",
    "0 & 0 & 0\\\\\n",
    "-1 & 0 & 0\\\\\n",
    "\\end{array}\n",
    "\\right),$$\n",
    "\n",
    "$$ J_z =\\left(\n",
    "\\begin{array}{ccc}\n",
    "0 & -1 & 0\\\\\n",
    "1 & 0 & 0\\\\\n",
    "0 & 0 & 0\\\\\n",
    "\\end{array}\n",
    "\\right).$$\n",
    "\n",
    "Verifique que el álgebra de Lie del grupo está dada por:\n",
    "$$[J_i,J_j]=\\epsilon_{ijk}J_k, \\space \\space i,j = 1,2,3$$\n",
    "donde $[A;B] = AB - BA$ es el conmutator y el símbolo Levi-Civita está definido por:\n",
    "$$ \\epsilon_{ijk} = \n",
    "\\left\\{\n",
    "\\begin{array}{lll}\n",
    "+1 &  si (i,j,k) & (1,2,3),(2,3,1),(3,1,2) \\space Permutacion \\space par\\\\\n",
    "-1 &  si (i,j,k) & (3,2,1),(1,3,2),(2,1,3) \\space Permutacion \\space impar\\\\\n",
    "0 & de \\space otro \\space modo & i=j \\space o \\space j=k \\space o \\space k=i\n",
    "\\end{array}\n",
    "\\right.\n",
    "$$"
   ]
  },
  {
   "cell_type": "code",
   "execution_count": 1,
   "metadata": {},
   "outputs": [],
   "source": [
    "import numpy as np\n",
    "import sympy as sym\n",
    "sym.init_printing(use_unicode=False, wrap_line=False)"
   ]
  },
  {
   "cell_type": "code",
   "execution_count": 2,
   "metadata": {},
   "outputs": [],
   "source": [
    "A=sym.MatrixSymbol('A', 3, 3)\n",
    "B=sym.MatrixSymbol('B', 3, 3)"
   ]
  },
  {
   "cell_type": "code",
   "execution_count": 3,
   "metadata": {},
   "outputs": [],
   "source": [
    "J=np.zeros(3,dtype=object)\n",
    "\n",
    "J[0]=sym.Matrix([[0,0,0],[0,0,-1],[0,1,0]])\n",
    "J[1]=sym.Matrix([[0,0,1],[0,0,0],[-1,0,0]])\n",
    "J[2]=sym.Matrix([[0,-1,0],[1,0,0],[0,0,0]])"
   ]
  },
  {
   "cell_type": "code",
   "execution_count": 4,
   "metadata": {},
   "outputs": [],
   "source": [
    "def Conmutador(A,B):\n",
    "    return A*B-B*A"
   ]
  },
  {
   "cell_type": "code",
   "execution_count": 5,
   "metadata": {},
   "outputs": [],
   "source": [
    "Lie_bracket=Conmutador(A,B)"
   ]
  },
  {
   "cell_type": "code",
   "execution_count": 6,
   "metadata": {},
   "outputs": [],
   "source": [
    "def Get_sign(i,j):\n",
    "    x=Lie_bracket.subs([(A,J[i-1]),(B,J[j-1])]).doit()\n",
    "    for l in range(1,4):\n",
    "        if l!=i and l!=j:\n",
    "            k=l\n",
    "    \n",
    "    if x==J[k-1]:\n",
    "        return 1\n",
    "    \n",
    "    if x==-1*J[k-1]:\n",
    "        return -1\n",
    "    \n",
    "    if x== sym.zeros(3,3):\n",
    "        return 0"
   ]
  },
  {
   "cell_type": "code",
   "execution_count": 7,
   "metadata": {},
   "outputs": [
    {
     "data": {
      "text/latex": [
       "$\\displaystyle \\left[\\begin{matrix}0 & 1 & -1\\\\-1 & 0 & 1\\\\1 & -1 & 0\\end{matrix}\\right]$"
      ],
      "text/plain": [
       "[0   1   -1]\n",
       "[          ]\n",
       "[-1  0   1 ]\n",
       "[          ]\n",
       "[1   -1  0 ]"
      ]
     },
     "execution_count": 7,
     "metadata": {},
     "output_type": "execute_result"
    }
   ],
   "source": [
    "Levi_Civita=sym.zeros(3,3)\n",
    "for i in range(1,4):\n",
    "    for j in range(1,4):\n",
    "        \n",
    "        Levi_Civita[i-1,j-1]=Get_sign(i,j)\n",
    "        \n",
    "Levi_Civita"
   ]
  },
  {
   "cell_type": "code",
   "execution_count": 8,
   "metadata": {},
   "outputs": [],
   "source": [
    "def Verify(i,j):\n",
    "    x=Lie_bracket.subs([(A,J[i-1]),(B,J[j-1])]).doit()\n",
    "    for l in range(1,4):\n",
    "        if l!=i and l!=j:\n",
    "            k=l\n",
    "    if x==J[k-1]*Levi_Civita[i-1,j-1]:\n",
    "        print(\"Se cumple para i,j=\",(i,j))\n",
    "    else:\n",
    "        return False"
   ]
  },
  {
   "cell_type": "code",
   "execution_count": 10,
   "metadata": {},
   "outputs": [
    {
     "name": "stdout",
     "output_type": "stream",
     "text": [
      "Se cumple para i,j= (2, 3)\n",
      "Se cumple para i,j= (3, 2)\n",
      "Se cumple para i,j= (1, 1)\n"
     ]
    }
   ],
   "source": [
    "Verify(2,3)##Permutacion par\n",
    "Verify(3,2)##Permutacion Impar\n",
    "Verify(1,1)##Permutacion i=j"
   ]
  },
  {
   "cell_type": "code",
   "execution_count": null,
   "metadata": {},
   "outputs": [],
   "source": []
  }
 ],
 "metadata": {
  "kernelspec": {
   "display_name": "Python 3",
   "language": "python",
   "name": "python3"
  },
  "language_info": {
   "codemirror_mode": {
    "name": "ipython",
    "version": 3
   },
   "file_extension": ".py",
   "mimetype": "text/x-python",
   "name": "python",
   "nbconvert_exporter": "python",
   "pygments_lexer": "ipython3",
   "version": "3.11.3"
  },
  "orig_nbformat": 4
 },
 "nbformat": 4,
 "nbformat_minor": 2
}
