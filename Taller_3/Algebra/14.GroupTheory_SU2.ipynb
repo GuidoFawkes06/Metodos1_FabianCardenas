{
 "cells": [
  {
   "attachments": {},
   "cell_type": "markdown",
   "metadata": {},
   "source": [
    "(Group theory, Sympy) El grupo de rotación SU(2) (special unitary dim 2) describe el operador de espín para una partícula fundamental con $s=1/2$. Este grupo tiene el siguiente conjunto de generadores:\n",
    "$$ \\sigma _x =\\left(\n",
    "\\begin{array}{cc}\n",
    "0 & 1 \\\\\n",
    "1 & 0 \\\\\n",
    "\\end{array}\n",
    "\\right),$$\n",
    "\n",
    "$$ \\sigma _y =\\left(\n",
    "\\begin{array}{cc}\n",
    "0 & -i \\\\\n",
    "i & 0 \\\\\n",
    "\\end{array}\n",
    "\\right),$$\n",
    "\n",
    "$$ \\sigma _z =\\left(\n",
    "\\begin{array}{cc}\n",
    "1 & 0\\\\\n",
    "0 & -1 \\\\\n",
    "\\end{array}\n",
    "\\right),$$\n",
    "\n",
    "Verifique que el álgebra de Lie del grupo está dada por:\n",
    "$$[\\sigma_i,\\sigma_j]=2i\\epsilon_{ijk}\\sigma_k, \\space \\space i,j = 1,2,3$$\n",
    "donde $[A;B] = AB - BA$ es el conmutator."
   ]
  },
  {
   "cell_type": "code",
   "execution_count": 1,
   "metadata": {},
   "outputs": [],
   "source": [
    "import sympy as sym\n",
    "sym.init_printing(use_unicode=False, wrap_line=False)\n",
    "import numpy as np"
   ]
  },
  {
   "cell_type": "code",
   "execution_count": 2,
   "metadata": {},
   "outputs": [],
   "source": [
    "A=sym.MatrixSymbol('A', 2, 2)\n",
    "B=sym.MatrixSymbol('B', 2, 2)"
   ]
  },
  {
   "cell_type": "code",
   "execution_count": 3,
   "metadata": {},
   "outputs": [],
   "source": [
    "sig=np.zeros(3,dtype=object)\n",
    "\n",
    "sig[0]=sym.Matrix([[0,1],[1,0]])\n",
    "sig[1]=sym.Matrix([[0,-sym.I],[sym.I,0]])\n",
    "sig[2]=sym.Matrix([[1,0],[0,-1]])"
   ]
  },
  {
   "cell_type": "code",
   "execution_count": 4,
   "metadata": {},
   "outputs": [],
   "source": [
    "def Conmutador(A,B):\n",
    "    return A*B-B*A"
   ]
  },
  {
   "cell_type": "code",
   "execution_count": 5,
   "metadata": {},
   "outputs": [],
   "source": [
    "Lie_bracket=Conmutador(A,B)"
   ]
  },
  {
   "cell_type": "code",
   "execution_count": 6,
   "metadata": {},
   "outputs": [],
   "source": [
    "def Get_sign(i,j):\n",
    "    x=Lie_bracket.subs([(A,sig[i-1]),(B,sig[j-1])]).doit()\n",
    "    for l in range(1,4):\n",
    "        if l!=i and l!=j:\n",
    "            k=l\n",
    "    if x==2*sym.I*sig[k-1]: \n",
    "        return 1\n",
    "    \n",
    "    if x==-2*sym.I*sig[k-1]: \n",
    "        return -1\n",
    "    \n",
    "    if x== sym.zeros(2,2):\n",
    "        return 0"
   ]
  },
  {
   "cell_type": "code",
   "execution_count": 7,
   "metadata": {},
   "outputs": [
    {
     "data": {
      "text/latex": [
       "$\\displaystyle \\left[\\begin{matrix}0 & 1 & -1\\\\-1 & 0 & 1\\\\1 & -1 & 0\\end{matrix}\\right]$"
      ],
      "text/plain": [
       "[0   1   -1]\n",
       "[          ]\n",
       "[-1  0   1 ]\n",
       "[          ]\n",
       "[1   -1  0 ]"
      ]
     },
     "execution_count": 7,
     "metadata": {},
     "output_type": "execute_result"
    }
   ],
   "source": [
    "Levi_Civita=sym.zeros(3,3)\n",
    "for i in range(1,4):\n",
    "    for j in range(1,4):\n",
    "        \n",
    "        Levi_Civita[i-1,j-1]=Get_sign(i,j)\n",
    "Levi_Civita"
   ]
  },
  {
   "cell_type": "code",
   "execution_count": 8,
   "metadata": {},
   "outputs": [],
   "source": [
    "def Verificar(i,j):\n",
    "    x=Lie_bracket.subs([(A,sig[i-1]),(B,sig[j-1])]).doit()\n",
    "    for l in range(1,4):\n",
    "        if l!=i and l!=j:\n",
    "            k=l\n",
    "    if x==sig[k-1]*Levi_Civita[i-1,j-1]*2*sym.I:\n",
    "        print(\"Se cumple para i,j=\",(i,j))\n",
    "    else:\n",
    "        return False"
   ]
  },
  {
   "cell_type": "code",
   "execution_count": 10,
   "metadata": {},
   "outputs": [
    {
     "name": "stdout",
     "output_type": "stream",
     "text": [
      "Se cumple para i,j= (1, 2)\n",
      "Se cumple para i,j= (3, 1)\n",
      "Se cumple para i,j= (2, 2)\n"
     ]
    }
   ],
   "source": [
    "Verificar(1,2)##Permutacion par\n",
    "Verificar(3,1)##Permutacion Impar\n",
    "Verificar(2,2)##Permutacion i=j"
   ]
  }
 ],
 "metadata": {
  "kernelspec": {
   "display_name": "Python 3",
   "language": "python",
   "name": "python3"
  },
  "language_info": {
   "codemirror_mode": {
    "name": "ipython",
    "version": 3
   },
   "file_extension": ".py",
   "mimetype": "text/x-python",
   "name": "python",
   "nbconvert_exporter": "python",
   "pygments_lexer": "ipython3",
   "version": "3.11.3"
  },
  "orig_nbformat": 4
 },
 "nbformat": 4,
 "nbformat_minor": 2
}
