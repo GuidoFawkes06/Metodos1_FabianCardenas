{
 "cells": [
  {
   "attachments": {},
   "cell_type": "markdown",
   "metadata": {},
   "source": [
    "(Particle Physics, Sympy) La matrices de Dirac {$\\gamma _0;\\gamma _1;\\gamma _2;\\gamma _3$} son una representación del álgebra de Clifford $Cl_{1;3}(R)$, que transforman correctamente el espacio de espinores de la teoría cuántica de campos:\n",
    "$$ \\gamma_0 =\\left(\n",
    "\\begin{array}{ccc}\n",
    "1 & 0 & 0 & 0\\\\\n",
    "0 & 1 & 0 & 0\\\\\n",
    "0 & 0 & -1& 0 \\\\\n",
    "0 & 0 & 0 & -1\\\\\n",
    "\\end{array}\n",
    "\\right),$$\n",
    "$$ \\gamma_1 =\\left(\n",
    "\\begin{array}{ccc}\n",
    "0 & 0 & 0 & 1\\\\\n",
    "0 & 0 & 1 & 0\\\\\n",
    "0 & -1 & 0 & 0 \\\\\n",
    "-1 & 0 & 0 & 0\\\\\n",
    "\\end{array}\n",
    "\\right),$$\n",
    "$$ \\gamma_2 =\\left(\n",
    "\\begin{array}{ccc}\n",
    "0 & 0 & 0 & -i\\\\\n",
    "0 & 0 & i & 0\\\\\n",
    "0 & i & 0 & 0 \\\\\n",
    "-i & 0 & 0 & 0\\\\\n",
    "\\end{array}\n",
    "\\right),$$\n",
    "$$ \\gamma_3 =\\left(\n",
    "\\begin{array}{ccc}\n",
    "0 & 0 & 1 & 0\\\\\n",
    "0 & 0 & 0 & -1\\\\\n",
    "-1 & 0 & 0 & 0 \\\\\n",
    "0 & 1 & 0 & -1\\\\\n",
    "\\end{array}\n",
    "\\right),$$\n",
    "\n",
    "Verifique que el álgebra de Clifford está dada por una relación de anticonmutación.\n",
    "$$[\\gamma_i,\\gamma_j]=\\gamma^u\\gamma^v + \\gamma^v\\gamma^u = 2n^{uv}II_{4x4}$$\n",
    "donde $n^{uv} = diag(+1,-1,-1,-1)$ es la métrica del espacio de la relactividad espacial"
   ]
  },
  {
   "cell_type": "code",
   "execution_count": null,
   "metadata": {},
   "outputs": [],
   "source": [
    "import sympy as sym\n",
    "sym.init_printing(use_unicode=False, wrap_line=False)\n",
    "import numpy as np"
   ]
  },
  {
   "cell_type": "code",
   "execution_count": null,
   "metadata": {},
   "outputs": [],
   "source": [
    "A=sym.MatrixSymbol('A', 4, 4)\n",
    "B=sym.MatrixSymbol('B', 4, 4)"
   ]
  },
  {
   "cell_type": "code",
   "execution_count": null,
   "metadata": {},
   "outputs": [],
   "source": [
    "gamma=np.zeros(4,dtype=object)\n",
    "\n",
    "gamma[0]=sym.Matrix([[1,0,0,0],[0,1,0,0],[0,0,-1,0],[0,0,0,-1]])\n",
    "gamma[1]=sym.Matrix([[0,0,0,1],[0,0,1,0],[0,-1,0,0],[-1,0,0,0]])\n",
    "gamma[2]=sym.Matrix([[0,0,0,-sym.I],[0,0,sym.I,0],[0,sym.I,0,0],[-sym.I,0,0,0]])\n",
    "gamma[3]=sym.Matrix([[0,0,1,0],[0,0,0,-1],[-1,0,0,0],[0,1,0,0]])"
   ]
  },
  {
   "cell_type": "code",
   "execution_count": null,
   "metadata": {},
   "outputs": [],
   "source": [
    "def Clifford(A,B):\n",
    "    return A*B+B*A"
   ]
  },
  {
   "cell_type": "code",
   "execution_count": null,
   "metadata": {},
   "outputs": [],
   "source": [
    "Producto=Clifford(A,B)"
   ]
  },
  {
   "cell_type": "code",
   "execution_count": null,
   "metadata": {},
   "outputs": [],
   "source": [
    "metrica=sym.diag(1,-1,-1,-1)"
   ]
  },
  {
   "cell_type": "code",
   "execution_count": 1,
   "metadata": {},
   "outputs": [],
   "source": [
    "def Verify(u,v):\n",
    "    x=Producto.subs([(A,gamma[u]),(B,gamma[v])]).doit()  \n",
    "    if x==2*metrica[u,v]*sym.eye(4):\n",
    "        print(\"Se cumple para u,v=\",(u,v),\"\\n\")\n",
    "    else:\n",
    "        return False"
   ]
  },
  {
   "cell_type": "code",
   "execution_count": null,
   "metadata": {},
   "outputs": [],
   "source": [
    "Verify(3,1)##Permutacion Impar\n",
    "Verify(2,2)\n",
    "Verify(3,3)\n",
    "Verify(1,1)\n",
    "Verify(1,2)##Permutacion par"
   ]
  }
 ],
 "metadata": {
  "kernelspec": {
   "display_name": "Python 3",
   "language": "python",
   "name": "python3"
  },
  "language_info": {
   "codemirror_mode": {
    "name": "ipython",
    "version": 3
   },
   "file_extension": ".py",
   "mimetype": "text/x-python",
   "name": "python",
   "nbconvert_exporter": "python",
   "pygments_lexer": "ipython3",
   "version": "3.11.3"
  },
  "orig_nbformat": 4
 },
 "nbformat": 4,
 "nbformat_minor": 2
}
