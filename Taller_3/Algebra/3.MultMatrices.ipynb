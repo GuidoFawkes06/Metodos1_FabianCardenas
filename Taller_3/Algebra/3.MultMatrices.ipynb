{
 "cells": [
  {
   "attachments": {},
   "cell_type": "markdown",
   "metadata": {},
   "source": [
    "Implemente un algoritmo que realice la multiplicación de dos matrices. Use el algoritmo para calcular:\n",
    "$$AB =\\left(\n",
    "\\begin{array}{ccc}\n",
    "1 & 0 & 0\\\\\n",
    "5 & 1 & 0\\\\\n",
    "-2 & 3 & 1\\\\\n",
    "\\end{array}\n",
    "\\right)\\left(\n",
    "\\begin{array}{ccc}\n",
    "4 & -2 & 1\\\\\n",
    "0 & 3 & 7\\\\\n",
    "0 & 0 & 2\\\\\n",
    "\\end{array}\n",
    "\\right)$$"
   ]
  },
  {
   "cell_type": "code",
   "execution_count": 1,
   "metadata": {},
   "outputs": [],
   "source": [
    "import numpy as np"
   ]
  },
  {
   "cell_type": "code",
   "execution_count": 2,
   "metadata": {},
   "outputs": [],
   "source": [
    "def Matrix_mul(A,B):\n",
    "    C=np.zeros([A.shape[0],B.shape[1]])\n",
    "    if A.shape[1]==B.shape[0]:    \n",
    "        for i in range(A.shape[0]):    \n",
    "            for j in range(B.shape[1]):\n",
    "                Sum=0\n",
    "                for k in range(B.shape[0]):    \n",
    "                    Sum+=A[i,k]*B[k,j]    \n",
    "                C[i,j]=Sum\n",
    "    \n",
    "        return C\n",
    "    else:\n",
    "        return None"
   ]
  },
  {
   "cell_type": "code",
   "execution_count": 3,
   "metadata": {},
   "outputs": [],
   "source": [
    "A=np.array([[1,0,0],[5,1,0],[-2,3,1]])  \n",
    "B=np.array([[4,-2,1],[0,3,7],[0,0,2]])"
   ]
  },
  {
   "cell_type": "code",
   "execution_count": 4,
   "metadata": {},
   "outputs": [],
   "source": [
    "C=Matrix_mul(A,B)"
   ]
  },
  {
   "cell_type": "code",
   "execution_count": 5,
   "metadata": {},
   "outputs": [
    {
     "name": "stdout",
     "output_type": "stream",
     "text": [
      "[[ 4. -2.  1.]\n",
      " [20. -7. 12.]\n",
      " [-8. 13. 21.]]\n"
     ]
    }
   ],
   "source": [
    "print(C)"
   ]
  }
 ],
 "metadata": {
  "kernelspec": {
   "display_name": "Python 3",
   "language": "python",
   "name": "python3"
  },
  "language_info": {
   "codemirror_mode": {
    "name": "ipython",
    "version": 3
   },
   "file_extension": ".py",
   "mimetype": "text/x-python",
   "name": "python",
   "nbconvert_exporter": "python",
   "pygments_lexer": "ipython3",
   "version": "3.11.3"
  },
  "orig_nbformat": 4
 },
 "nbformat": 4,
 "nbformat_minor": 2
}
