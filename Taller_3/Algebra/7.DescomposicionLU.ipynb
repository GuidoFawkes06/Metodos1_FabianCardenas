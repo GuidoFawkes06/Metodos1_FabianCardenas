{
 "cells": [
  {
   "attachments": {},
   "cell_type": "markdown",
   "metadata": {},
   "source": [
    "Implemente la descomposición LU para factorizar la siguiente matriz A = LU.\n",
    "$$A=\n",
    "\\left(\n",
    "\\begin{array}{ccc}\n",
    "4 & -2 & 1\\\\\n",
    "20 &-7 & 12\\\\\n",
    "-8 & 13 & 17\\\\\n",
    "\\end{array}\n",
    "\\right)=\n",
    "\\left(\n",
    "\\begin{array}{ccc}\n",
    "1 & 0 & 0\\\\\n",
    "5 & 1 & 0\\\\\n",
    "-2 & 3 & 1\\\\\n",
    "\\end{array}\n",
    "\\right)\n",
    "\\left(\n",
    "\\begin{array}{ccc}\n",
    "4 & -2 & 1\\\\\n",
    "0 & 3 & 7\\\\\n",
    "0 & 0 & -2\\\\\n",
    "\\end{array}\n",
    "\\right)\n",
    "$$"
   ]
  },
  {
   "cell_type": "code",
   "execution_count": 1,
   "metadata": {},
   "outputs": [],
   "source": [
    "import numpy as np"
   ]
  },
  {
   "cell_type": "code",
   "execution_count": 2,
   "metadata": {},
   "outputs": [],
   "source": [
    "def lu_desc(A):\n",
    "    dims = A.shape\n",
    "    L = np.zeros(dims)\n",
    "    U = np.zeros(dims)\n",
    "    for j in range(dims[0]):\n",
    "        if abs(A[j,j]) == 0:\n",
    "            print(\"Error:Pivote=0\")\n",
    "            return None\n",
    "        L[j,j] = 1.0\n",
    "        for i in range(j+1,dims[0]):\n",
    "            L[i,j] = A[i,j]/A[j,j]\n",
    "            for k in range(j+1,dims[0]):\n",
    "                A[i,k] = A[i,k] - L[i,j]*A[j,k]\n",
    "        for k in range(j,dims[0]):\n",
    "            U[j,k] = A[j,k]\n",
    "    \n",
    "    return L, U"
   ]
  },
  {
   "cell_type": "code",
   "execution_count": 3,
   "metadata": {},
   "outputs": [],
   "source": [
    "A=np.array([[4,-2,1],[20,-7,12],[-8,13,17]])"
   ]
  },
  {
   "cell_type": "code",
   "execution_count": 4,
   "metadata": {},
   "outputs": [],
   "source": [
    "L, U = lu_desc(A)"
   ]
  },
  {
   "cell_type": "code",
   "execution_count": 5,
   "metadata": {},
   "outputs": [
    {
     "name": "stdout",
     "output_type": "stream",
     "text": [
      "L = \n",
      "[[ 1.  0.  0.]\n",
      " [ 5.  1.  0.]\n",
      " [-2.  3.  1.]]\n",
      "U = \n",
      "[[ 4. -2.  1.]\n",
      " [ 0.  3.  7.]\n",
      " [ 0.  0. -2.]]\n"
     ]
    }
   ],
   "source": [
    "print('L = ')\n",
    "print(L)\n",
    "print('U = ')\n",
    "print(U)"
   ]
  }
 ],
 "metadata": {
  "kernelspec": {
   "display_name": "Python 3",
   "language": "python",
   "name": "python3"
  },
  "language_info": {
   "codemirror_mode": {
    "name": "ipython",
    "version": 3
   },
   "file_extension": ".py",
   "mimetype": "text/x-python",
   "name": "python",
   "nbconvert_exporter": "python",
   "pygments_lexer": "ipython3",
   "version": "3.11.3"
  },
  "orig_nbformat": 4
 },
 "nbformat": 4,
 "nbformat_minor": 2
}
