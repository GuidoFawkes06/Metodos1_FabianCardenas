{
 "cells": [
  {
   "attachments": {},
   "cell_type": "markdown",
   "metadata": {},
   "source": [
    "Método de Jacobi: diagonalización de matrices simétricas. Cuando la matriz es simétrica aij = aji, es posible encontrar todos los valores y vectores propios mediante la transformación de la matriz A usando matrices de rotación. En particular, una rotación alrededor del eje z está dada por:\n",
    "\n",
    "$$R(\\theta)=\\left(\n",
    "\\begin{array}{ccc}\n",
    "cos\\theta & -sin\\theta & 0\\\\\n",
    "sin\\theta & cos\\theta & 0\\\\\n",
    "0 & 0 & 1\\\\\n",
    "\\end{array}\n",
    "\\right)$$\n",
    "\n",
    "La rotación de un ángulo $\\theta$ muy particular diagonaliza iterativamente a la matriz A.\n",
    "\n",
    "$$ \\theta = \n",
    "\\left\\{\n",
    "\\begin{array}{ll}\n",
    "\\frac{\\pi}{4} &  si \\space a_{ii} = a_{jj}\\\\\n",
    "\\frac{1}{2} Arctan(\\frac{2a_{ij}}{a_{ii}-a_{jj}}) & si \\space a_{ii} \\not = a_{jj}\n",
    "\\end{array}\n",
    "\\right.\n",
    "$$\n",
    "donde i; j es la posición del elemento más grande fuera de la diagonal.\n",
    "\n",
    "(a) Implemente el método de Jacobi para encontrar los valores y vectores propios de:\n",
    "\n",
    "$$ A =\\left(\n",
    "\\begin{array}{ccc}\n",
    "4 & 1 & 1\\\\\n",
    "1 & 3 & 2\\\\\n",
    "1 & 2 & 5\\\\\n",
    "\\end{array}\n",
    "\\right)$$\n",
    "\n",
    "(b) Compare con el resultado que se obtiene de Numpy: np.linalg.eig(A)."
   ]
  },
  {
   "cell_type": "code",
   "execution_count": 1,
   "metadata": {},
   "outputs": [],
   "source": [
    "import numpy as np\n",
    "import math as math"
   ]
  },
  {
   "cell_type": "code",
   "execution_count": 2,
   "metadata": {},
   "outputs": [],
   "source": [
    "def Mat_Rot(p,q,dim,theta):\n",
    "    \n",
    "    Rot=np.zeros([dim,dim])\n",
    "    \n",
    "    for i in range(dim):\n",
    "        Rot[i,i]=1\n",
    "    \n",
    "    Rot[p,q]=-1*np.sin(theta)\n",
    "    Rot[q,p]=1*np.sin(theta)\n",
    "    Rot[p,p]=np.cos(theta)\n",
    "    Rot[q,q]=np.cos(theta)     \n",
    "    \n",
    "    return Rot"
   ]
  },
  {
   "cell_type": "code",
   "execution_count": 4,
   "metadata": {},
   "outputs": [],
   "source": [
    "def Get_max_pos(A):\n",
    "    \n",
    "    B=A.copy()\n",
    "    B=np.abs(B)\n",
    "    \n",
    "    for k in range(B.shape[0]):\n",
    "      B[k,k]=0\n",
    "    for pi in range(B.shape[0]):\n",
    "        for qi in range(pi+1,B.shape[0]):\n",
    "            if B[pi,qi]==np.max(B):\n",
    "               p=pi\n",
    "               q=qi\n",
    "    \n",
    "    return p,q"
   ]
  },
  {
   "cell_type": "code",
   "execution_count": 5,
   "metadata": {},
   "outputs": [],
   "source": [
    "def Jacobi_Diagonal(A,tolerance=1e-14,itmax=1000):\n",
    "    \n",
    "    dim=A.shape[0]\n",
    "    R=np.identity(dim)\n",
    "    i,j=Get_max_pos(A)\n",
    "    it=0\n",
    "    B=A.copy()\n",
    "    while np.max(np.abs(B))>tolerance and it<itmax:\n",
    "      if A[i,i]==A[j,j]:\n",
    "          theta=0.25*np.pi\n",
    "      else:\n",
    "          theta=0.5*np.arctan(2*A[i,j]/(A[i,i]-A[j,j]))\n",
    "          \n",
    "      Ri=Mat_Rot(i,j,dim,theta)\n",
    "      R=R@Ri\n",
    "      A=np.transpose(Ri)@A@Ri\n",
    "      \n",
    "      B=A.copy()\n",
    "      B=np.abs(B)\n",
    "    \n",
    "      for k in range(dim):\n",
    "        B[k,k]=0\n",
    "              \n",
    "      for pi in range(dim):\n",
    "          for qi in range(pi+1,dim):\n",
    "              if math.isclose(B[pi,qi],np.max(np.abs(B))):\n",
    "                 i=pi\n",
    "                 j=qi\n",
    "      it+=1\n",
    "    E_value=np.zeros(dim)\n",
    "    for z in range(dim):\n",
    "      E_value[z]=A[z,z]\n",
    "    return E_value,R"
   ]
  },
  {
   "cell_type": "code",
   "execution_count": 6,
   "metadata": {},
   "outputs": [],
   "source": [
    "A=np.array([[4,1,1],[1,3,2],[1,2,5]])"
   ]
  },
  {
   "cell_type": "code",
   "execution_count": 7,
   "metadata": {},
   "outputs": [],
   "source": [
    "EigVectors,EigValues=Jacobi_Diagonal(A)"
   ]
  },
  {
   "cell_type": "code",
   "execution_count": 8,
   "metadata": {},
   "outputs": [],
   "source": [
    "NumpyVectors,NumpyValues=np.linalg.eig(A)"
   ]
  },
  {
   "cell_type": "code",
   "execution_count": 14,
   "metadata": {},
   "outputs": [
    {
     "name": "stdout",
     "output_type": "stream",
     "text": [
      "Valores Propios:\n",
      "Dados por Jacobi: [3.39729507 1.70759841 6.89510652]\n",
      "Dados por Numpy: [6.89510652 3.39729507 1.70759841] \n",
      "\n"
     ]
    }
   ],
   "source": [
    "print(\"Valores Propios:\")\n",
    "print(\"Dados por Jacobi:\",(EigVectors))\n",
    "print(\"Dados por Numpy:\",NumpyVectors, \"\\n\")"
   ]
  },
  {
   "cell_type": "code",
   "execution_count": 19,
   "metadata": {},
   "outputs": [
    {
     "name": "stdout",
     "output_type": "stream",
     "text": [
      "Vectores Propios:\n",
      "Dados por Jacobi: \n",
      " [[ 0.88573564 -0.17059871  0.43170413]\n",
      " [-0.07589338  0.86427949  0.49725362]\n",
      " [-0.45794385 -0.47319874  0.75257583]]\n",
      "Dados por Numpy: \n",
      " [[ 0.43170413  0.88573564  0.17059871]\n",
      " [ 0.49725362 -0.07589338 -0.86427949]\n",
      " [ 0.75257583 -0.45794385  0.47319874]]\n"
     ]
    }
   ],
   "source": [
    "print(\"Vectores Propios:\")\n",
    "print(\"Dados por Jacobi:\", \"\\n\",EigValues)\n",
    "print(\"Dados por Numpy:\",\"\\n\",NumpyValues)"
   ]
  }
 ],
 "metadata": {
  "kernelspec": {
   "display_name": "Python 3",
   "language": "python",
   "name": "python3"
  },
  "language_info": {
   "codemirror_mode": {
    "name": "ipython",
    "version": 3
   },
   "file_extension": ".py",
   "mimetype": "text/x-python",
   "name": "python",
   "nbconvert_exporter": "python",
   "pygments_lexer": "ipython3",
   "version": "3.11.3"
  },
  "orig_nbformat": 4
 },
 "nbformat": 4,
 "nbformat_minor": 2
}
