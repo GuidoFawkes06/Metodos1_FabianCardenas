{
 "cells": [
  {
   "attachments": {},
   "cell_type": "markdown",
   "metadata": {},
   "source": [
    "(Machine Learning: Logistic Regresion)"
   ]
  },
  {
   "cell_type": "code",
   "execution_count": 4,
   "metadata": {},
   "outputs": [],
   "source": [
    "import urllib.request\n",
    "import numpy as np\n",
    "import matplotlib.pyplot as plt\n",
    "import pandas as pd"
   ]
  },
  {
   "cell_type": "code",
   "execution_count": 5,
   "metadata": {},
   "outputs": [
    {
     "data": {
      "text/plain": [
       "('Data\\\\Sigmoid.txt', <http.client.HTTPMessage at 0x1a7bc571b50>)"
      ]
     },
     "execution_count": 5,
     "metadata": {},
     "output_type": "execute_result"
    }
   ],
   "source": [
    "url =\"https://raw.githubusercontent.com/asegura4488/Database/main/MetodosComputacionalesReforma/Sigmoid.csv\"\n",
    "filename = \"Data\\Sigmoid.txt\"\n",
    "urllib.request.urlretrieve(url, filename)"
   ]
  },
  {
   "cell_type": "code",
   "execution_count": 6,
   "metadata": {},
   "outputs": [],
   "source": [
    "Data = pd.read_csv(filename)\n",
    "X = np.float64(Data.x)\n",
    "Y = np.float64(Data.y)"
   ]
  },
  {
   "cell_type": "code",
   "execution_count": 7,
   "metadata": {},
   "outputs": [],
   "source": [
    "def Modelo(theta,x):\n",
    "    den=theta[1] + np.exp(-1*theta[2]*x)\n",
    "    return theta[0]/den"
   ]
  },
  {
   "cell_type": "code",
   "execution_count": 8,
   "metadata": {},
   "outputs": [],
   "source": [
    "def Cost_Function(X,Y,Modelo,theta):\n",
    "    distancia=(Y-Modelo(theta,X))\n",
    "    sum_=np.sum(distancia**2)\n",
    "    return sum_"
   ]
  },
  {
   "cell_type": "code",
   "execution_count": 9,
   "metadata": {},
   "outputs": [],
   "source": [
    "def GetGradient(G,r,h=1e-6):\n",
    "    Grad = np.zeros(3)\n",
    "    Grad[0] = (G(X,Y,Modelo,[r[0] + h,r[1],r[2]]) - G(X,Y,Modelo,[r[0] - h,r[1],r[2]]))/(2*h)\n",
    "    Grad[1] = (G(X,Y,Modelo,[r[0],r[1]+h,r[2]]) - G(X,Y,Modelo,[r[0] ,r[1]-h,r[2]]))/(2*h)\n",
    "    Grad[2] = (G(X,Y,Modelo,[r[0] ,r[1],r[2]+h]) - G(X,Y,Modelo,[r[0] ,r[1],r[2]-h]))/(2*h)\n",
    "        \n",
    "    return Grad"
   ]
  },
  {
   "cell_type": "code",
   "execution_count": 10,
   "metadata": {},
   "outputs": [],
   "source": [
    "Gradiente=GetGradient(Cost_Function,[1,1,1])"
   ]
  },
  {
   "cell_type": "code",
   "execution_count": 11,
   "metadata": {},
   "outputs": [],
   "source": [
    "def GetSolve(G,r,lr=5e-4,epochs=int(1e4),error=1e-4):\n",
    "    \n",
    "    d = 1\n",
    "    it = 0\n",
    "    \n",
    "    while  d > error and it < epochs:\n",
    "        grad= GetGradient(G,r)\n",
    "        r -= lr*grad\n",
    "        it += 1   \n",
    "        d=np.linalg.norm(lr*grad)\n",
    "        \n",
    "    return r"
   ]
  },
  {
   "cell_type": "code",
   "execution_count": 12,
   "metadata": {},
   "outputs": [
    {
     "name": "stdout",
     "output_type": "stream",
     "text": [
      "[3.87415893 0.85687642 2.85839615]\n"
     ]
    }
   ],
   "source": [
    "Parametros=GetSolve(Cost_Function,[1,1,1])\n",
    "print(Parametros)"
   ]
  },
  {
   "cell_type": "code",
   "execution_count": 13,
   "metadata": {},
   "outputs": [
    {
     "data": {
      "text/plain": [
       "<matplotlib.legend.Legend at 0x1a7bc64b070>"
      ]
     },
     "execution_count": 13,
     "metadata": {},
     "output_type": "execute_result"
    },
    {
     "data": {
      "image/png": "[encoded data removed]",
      "text/plain": [
       "<Figure size 640x480 with 1 Axes>"
      ]
     },
     "metadata": {},
     "output_type": "display_data"
    }
   ],
   "source": [
    "x_=np.linspace(-10, 10,1000)\n",
    "plt.scatter(X,Y,label=\"Data\",c=\"r\")\n",
    "plt.plot(x_,Modelo(Parametros,x_),label=\"Best fit model\",c=\"indigo\")\n",
    "plt.legend()"
   ]
  },
  {
   "cell_type": "code",
   "execution_count": null,
   "metadata": {},
   "outputs": [],
   "source": []
  }
 ],
 "metadata": {
  "kernelspec": {
   "display_name": "Python 3 (ipykernel)",
   "language": "python",
   "name": "python3"
  },
  "language_info": {
   "codemirror_mode": {
    "name": "ipython",
    "version": 3
   },
   "file_extension": ".py",
   "mimetype": "text/x-python",
   "name": "python",
   "nbconvert_exporter": "python",
   "pygments_lexer": "ipython3",
   "version": "3.11.3"
  }
 },
 "nbformat": 4,
 "nbformat_minor": 2
}
