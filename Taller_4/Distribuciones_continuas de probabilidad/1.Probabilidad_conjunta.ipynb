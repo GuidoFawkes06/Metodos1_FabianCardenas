{
 "cells": [
  {
   "attachments": {},
   "cell_type": "markdown",
   "metadata": {},
   "source": [
    "1. Dada la función de probabilidad conjunta:\n",
    "   encuentre analáticamente y a través del paquete SymPy los siguientes valores:"
   ]
  },
  {
   "cell_type": "code",
   "execution_count": 1,
   "metadata": {},
   "outputs": [],
   "source": [
    "import sympy as sym"
   ]
  },
  {
   "attachments": {},
   "cell_type": "markdown",
   "metadata": {},
   "source": [
    "a) Verifique que sea una función de densidad conjunta válida."
   ]
  },
  {
   "attachments": {},
   "cell_type": "markdown",
   "metadata": {},
   "source": [
    "A)\n",
    "\n",
    "$$\n",
    "\\iint_R f(x,y) \\,dx\\,dy=\\int_{x}\\int_{y} \\frac{2}{3}(x+2y)\\,dy\\,dx=\\int_{0}^1\\int_{0}^1 \\frac{2}{3}(x+2y)\\,dy\\,dx=\\frac{2}{3}\\int_{0}^1(xy+y^2)]^{y=1}_{y=0}\\,dx=\\frac{2}{3}\\int_{0}^1(x+1)\\,dx=\\frac{2}{3}(\\frac{x^2}{2}+x)]^{x=1}_{x=0}=\\frac{2}{3}(\\frac{3}{2})=1\n",
    "$$"
   ]
  },
  {
   "cell_type": "code",
   "execution_count": 12,
   "metadata": {},
   "outputs": [
    {
     "name": "stdout",
     "output_type": "stream",
     "text": [
      "Dado que la doble integral de la funcion es igual a 1 entre los limites 0 < x < 1 y 0< y < 1; entonces se sabe que la función de densidad conjunta es válida. \n"
     ]
    }
   ],
   "source": [
    "x= sym.Symbol(\"x\", real = True)\n",
    "y= sym.Symbol(\"y\", real = True)\n",
    "func = (2/3)*(x+2*y)\n",
    "\n",
    "integral = sym.integrate(sym.integrate(f, (x, 0, 1)), (y, 0, 1))\n",
    "print(\"Dado que la doble integral de la funcion es igual a\", round(integral),  \"entre los limites 0 < x < 1 y 0< y < 1; entonces se sabe que la función de densidad conjunta es válida. \")"
   ]
  },
  {
   "attachments": {},
   "cell_type": "markdown",
   "metadata": {},
   "source": [
    "B) Hallar las distribuciones marginales g(x) y h(y)."
   ]
  },
  {
   "attachments": {},
   "cell_type": "markdown",
   "metadata": {},
   "source": [
    "B)\n",
    "\n",
    "$$\n",
    "g(x)=\\int_y f(x,y)dy=\\int_{0}^1\\frac{2}{3}(x+2y)\\,dy=\\frac{2}{3}(xy+y^2)]^{y=1}_{y=0}=\\frac{2}{3}(x+1)\n",
    "$$\n",
    "\n",
    "$$\n",
    "h(y)=\\int_x f(x,y)dx=\\int_{0}^1\\frac{2}{3}(x+2y)\\,dx=\\frac{2}{3}(x^2/2+2xy)]^{x=1}_{x=0}=\\frac{2}{3}(1/2+2y)=\\frac{4}{3}y+\\frac{1}{3}\n",
    "$$"
   ]
  },
  {
   "cell_type": "code",
   "execution_count": 13,
   "metadata": {},
   "outputs": [
    {
     "name": "stdout",
     "output_type": "stream",
     "text": [
      "Distribución marginal g(x) dada con respecto a la integral con los límites de integración en y es : \n",
      "g(x): 0.666666666666667*x + 0.666666666666667\n",
      "\n",
      "Distribución marginal h(y) dada con respecto a la integral con los límites de integración en x es : \n",
      "h(y): 1.33333333333333*y + 0.333333333333333\n"
     ]
    }
   ],
   "source": [
    "g=sym.integrate(f,(y,0,1))\n",
    "h=sym.integrate(f,(x,0,1))\n",
    "print(\"Distribución marginal g(x) dada con respecto a la integral con los límites de integración en y es : \")\n",
    "print(\"g(x):\",  g)\n",
    "print()\n",
    "print(\"Distribución marginal h(y) dada con respecto a la integral con los límites de integración en x es : \")\n",
    "print(\"h(y):\", h)"
   ]
  },
  {
   "attachments": {},
   "cell_type": "markdown",
   "metadata": {},
   "source": [
    "C) E(x) = 10/18"
   ]
  },
  {
   "attachments": {},
   "cell_type": "markdown",
   "metadata": {},
   "source": [
    "C)\n",
    "$$\n",
    "E(x)=\\int_x x g(x)\\,dx=\\int_0^1\\frac{2}{3}(x+1)x\\,dx=\\frac{2}{3}(\\frac{x^3}{3}+\\frac{x^2}{2})]^{x=1}_{x=0}=2/3(1/3+1/2)=5/9\n",
    "$$"
   ]
  },
  {
   "cell_type": "code",
   "execution_count": 14,
   "metadata": {},
   "outputs": [
    {
     "name": "stdout",
     "output_type": "stream",
     "text": [
      "0.555555555555556 0.5555555555555556\n"
     ]
    }
   ],
   "source": [
    "E_x=sym.integrate(x*g,(x,0,1))\n",
    "print(E_x,10/18)"
   ]
  },
  {
   "attachments": {},
   "cell_type": "markdown",
   "metadata": {},
   "source": [
    "D) E(y)=11/18\n",
    "\n",
    "$$\n",
    "E(y)=\\int_y y h(y)\\,dy=\\int_0^1(\\frac{4}{3}y+\\frac{1}{3})y\\,dy=(\\frac{4y^3}{9}+\\frac{y^2}{6})]^{y=1}_{y=0}=(4/9+1/6)=11/18\n",
    "$$"
   ]
  },
  {
   "cell_type": "code",
   "execution_count": 15,
   "metadata": {},
   "outputs": [
    {
     "name": "stdout",
     "output_type": "stream",
     "text": [
      "0.611111111111111 0.6111111111111112\n"
     ]
    }
   ],
   "source": [
    "E_y=sym.integrate(y*h,(y,0,1))\n",
    "print(E_y,11/18)"
   ]
  },
  {
   "attachments": {},
   "cell_type": "markdown",
   "metadata": {},
   "source": [
    "E) Calcular la covarianza usando: σxy = E(xy) − E(x)E(y) = −0.00617"
   ]
  },
  {
   "attachments": {},
   "cell_type": "markdown",
   "metadata": {},
   "source": [
    "E)\n",
    "$$\n",
    "E(xy)=\\iint_R f(x,y) xy\\,dx\\,dy=\\int_{0}^1\\int_{0}^1 \\frac{2}{3}(x+2y)xy\\,dy\\,dx=\\int_0^1(\\frac{1}{3}x^2+\\frac{4}{9})x\\,dx=1/3\n",
    "$$\n",
    "$$\n",
    "\\sigma_{xy}=E(xy)-E(x)*E(y)=1/3-5/9*11/18\\approx -0.006\n",
    "$$"
   ]
  },
  {
   "cell_type": "code",
   "execution_count": 16,
   "metadata": {},
   "outputs": [
    {
     "name": "stdout",
     "output_type": "stream",
     "text": [
      "-0.00617283950617281 -0.00617\n"
     ]
    }
   ],
   "source": [
    "E_XY=sym.integrate(func*x*y,(x,0,1),(y,0,1))\n",
    "\n",
    "COV1=E_XY-E_x*E_y\n",
    "\n",
    "print(COV1,-0.00617)"
   ]
  },
  {
   "attachments": {},
   "cell_type": "markdown",
   "metadata": {},
   "source": [
    "F) Calcular la covarianza usando: σxy = E((x − μˆx)(y − μˆy)) = −0.00617"
   ]
  },
  {
   "cell_type": "code",
   "execution_count": 17,
   "metadata": {},
   "outputs": [
    {
     "name": "stdout",
     "output_type": "stream",
     "text": [
      "-0.00617283950617284\n"
     ]
    }
   ],
   "source": [
    "COV2=sym.integrate(func*(x-E_x)*(y-E_y),(x,0,1),(y,0,1))\n",
    "print(COV2)"
   ]
  },
  {
   "cell_type": "code",
   "execution_count": 10,
   "metadata": {},
   "outputs": [
    {
     "data": {
      "text/latex": [
       "$\\displaystyle 0.888888888888889 x y + 0.222222222222222 x + 0.888888888888889 y + 0.222222222222222$"
      ],
      "text/plain": [
       "0.888888888888889*x*y + 0.222222222222222*x + 0.888888888888889*y + 0.222222222222222"
      ]
     },
     "execution_count": 10,
     "metadata": {},
     "output_type": "execute_result"
    }
   ],
   "source": [
    "p_e=g*h\n",
    "p_e.expand()"
   ]
  },
  {
   "attachments": {},
   "cell_type": "markdown",
   "metadata": {},
   "source": [
    "g) Son las variables x e y independientes?"
   ]
  },
  {
   "cell_type": "code",
   "execution_count": 19,
   "metadata": {},
   "outputs": [
    {
     "name": "stdout",
     "output_type": "stream",
     "text": [
      "0.666666666666667*x + 1.33333333333333*y =? (0.666666666666667*x + 0.666666666666667)*(1.33333333333333*y + 0.333333333333333)\n"
     ]
    }
   ],
   "source": [
    "print(func, \"=?\", g*h)"
   ]
  },
  {
   "attachments": {},
   "cell_type": "markdown",
   "metadata": {},
   "source": [
    "No, ya que la covarianza es diferente de cero, por otro lado $f(x,y)\\neq g(x)h(y)$"
   ]
  }
 ],
 "metadata": {
  "kernelspec": {
   "display_name": "Python 3",
   "language": "python",
   "name": "python3"
  },
  "language_info": {
   "codemirror_mode": {
    "name": "ipython",
    "version": 3
   },
   "file_extension": ".py",
   "mimetype": "text/x-python",
   "name": "python",
   "nbconvert_exporter": "python",
   "pygments_lexer": "ipython3",
   "version": "3.11.3"
  },
  "orig_nbformat": 4
 },
 "nbformat": 4,
 "nbformat_minor": 2
}
