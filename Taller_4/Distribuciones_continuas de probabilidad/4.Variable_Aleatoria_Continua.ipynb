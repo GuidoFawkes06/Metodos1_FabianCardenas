{
 "cells": [
  {
   "attachments": {},
   "cell_type": "markdown",
   "metadata": {},
   "source": [
    "4. Una variable aleatoria continua X tiene una función densidad:"
   ]
  },
  {
   "attachments": {},
   "cell_type": "markdown",
   "metadata": {},
   "source": [
    "$$\n",
    "\\hat{\\mu}_{g(X)}=\\int_{-\\infty}^{\\infty} g(x)f(x)dx=\\int_{-\\infty}^{0} g(x)f(x)dx + \\int_{0}^{\\infty} g(x)f(x)dx=\\int_{-\\infty}^{0} 0 dx+\\int_{0}^{\\infty} e^{2x/3}e^{-x}dx=\\int_{0}^{\\infty} e^{2x/3}e^{-x}dx=\\int_{0}^{\\infty} e^{-x/3}dx=-3\\int_0^{\\infty}e^u du=-3e^{-x/3}]_0^\\infty=0-(-3e^0)=3\n",
    "$$"
   ]
  },
  {
   "cell_type": "code",
   "execution_count": 1,
   "metadata": {},
   "outputs": [],
   "source": [
    "import\tsympy as sym"
   ]
  },
  {
   "cell_type": "code",
   "execution_count": 2,
   "metadata": {},
   "outputs": [
    {
     "data": {
      "text/latex": [
       "$\\displaystyle 3$"
      ],
      "text/plain": [
       "3"
      ]
     },
     "execution_count": 2,
     "metadata": {},
     "output_type": "execute_result"
    }
   ],
   "source": [
    "def f(x):\n",
    "\n",
    "    return sym.exp(-x)\n",
    "\n",
    "x=sym.Symbol(\"x\")\n",
    "func=f(x)\n",
    "\n",
    "def g(x):\n",
    "  return sym.exp(2*x/3)\n",
    "\n",
    "G=g(x)\n",
    "\n",
    "Expected_value=sym.integrate(func*G,(x,0,sym.oo))\n",
    "\n",
    "Expected_value\n"
   ]
  },
  {
   "cell_type": "code",
   "execution_count": null,
   "metadata": {},
   "outputs": [],
   "source": []
  }
 ],
 "metadata": {
  "kernelspec": {
   "display_name": "Python 3",
   "language": "python",
   "name": "python3"
  },
  "language_info": {
   "codemirror_mode": {
    "name": "ipython",
    "version": 3
   },
   "file_extension": ".py",
   "mimetype": "text/x-python",
   "name": "python",
   "nbconvert_exporter": "python",
   "pygments_lexer": "ipython3",
   "version": "3.11.3"
  },
  "orig_nbformat": 4
 },
 "nbformat": 4,
 "nbformat_minor": 2
}
