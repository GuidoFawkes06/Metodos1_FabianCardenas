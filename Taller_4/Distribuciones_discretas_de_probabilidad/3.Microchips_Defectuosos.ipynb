{
 "cells": [
  {
   "attachments": {},
   "cell_type": "markdown",
   "metadata": {},
   "source": [
    "3. Un embarque de 10 microchips similares que se envía a distribución tiene 3 aparatos defectuosos. Si una empresa realiza un compra aleatoria de 2 de estos microchips."
   ]
  },
  {
   "attachments": {},
   "cell_type": "markdown",
   "metadata": {},
   "source": [
    "a)\n",
    "El Numero total de formas de escoger 2 chips entre diez es: $$Total={10 \\choose 2} $$\n",
    "\n",
    "El numero de  formas de escoger x chips defectuosos esta dado por:\n",
    "\n",
    "$$formas\\space Defectuosos_{(x)}={3 \\choose x}$$\n",
    "\n",
    "Similarmente para chips funcionales:\n",
    "$$formas \\space funcionales_{(x)}={7 \\choose 2-x}$$\n",
    "\n",
    "Por lo que el numero de formas de escoger x chips defectuosos y 2-x chips funcionales es:\n",
    "\n",
    "$$formas={7 \\choose 2-x}{3 \\choose x}$$\n",
    "\n",
    "Por lo que la probabilidad de escoger x chips defectuosos es\n",
    "\n",
    "$$f(x)=\\frac{formas}{Total}\\=\\frac{{7 \\choose 2-x}{3 \\choose x}}{10 \\choose 2}\\$$\n"
   ]
  },
  {
   "cell_type": "code",
   "execution_count": 1,
   "metadata": {},
   "outputs": [],
   "source": [
    "import numpy as np"
   ]
  },
  {
   "cell_type": "code",
   "execution_count": 2,
   "metadata": {},
   "outputs": [],
   "source": [
    "def f(x):\n",
    "  return (np.math.comb(7,2-x)*np.math.comb(3,x))/np.math.comb(10,2)"
   ]
  },
  {
   "cell_type": "code",
   "execution_count": 3,
   "metadata": {},
   "outputs": [
    {
     "name": "stdout",
     "output_type": "stream",
     "text": [
      "0.4666666666666667 0.4666666666666667\n",
      "0.4666666666666667 0.4666666666666667\n",
      "0.06666666666666667 0.06666666666666667\n"
     ]
    }
   ],
   "source": [
    "print(f(0),7/15)\n",
    "print(f(1),7/15)\n",
    "print(f(2),1/15)"
   ]
  },
  {
   "attachments": {},
   "cell_type": "markdown",
   "metadata": {},
   "source": [
    "b)¿Cuál es el valor esperado de microchips defectuosos?"
   ]
  },
  {
   "cell_type": "code",
   "execution_count": 4,
   "metadata": {},
   "outputs": [
    {
     "name": "stdout",
     "output_type": "stream",
     "text": [
      "0.6\n"
     ]
    }
   ],
   "source": [
    "Expected_value=0\n",
    "\n",
    "for i in range(3):\n",
    "  Expected_value+=i*f(i)\n",
    "\n",
    "print(Expected_value)"
   ]
  }
 ],
 "metadata": {
  "kernelspec": {
   "display_name": "Python 3",
   "language": "python",
   "name": "python3"
  },
  "language_info": {
   "codemirror_mode": {
    "name": "ipython",
    "version": 3
   },
   "file_extension": ".py",
   "mimetype": "text/x-python",
   "name": "python",
   "nbconvert_exporter": "python",
   "pygments_lexer": "ipython3",
   "version": "3.11.3"
  },
  "orig_nbformat": 4
 },
 "nbformat": 4,
 "nbformat_minor": 2
}
