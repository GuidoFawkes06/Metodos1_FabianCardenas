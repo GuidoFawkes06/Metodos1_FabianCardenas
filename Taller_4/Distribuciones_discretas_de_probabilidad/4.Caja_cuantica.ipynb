{
 "cells": [
  {
   "attachments": {},
   "cell_type": "markdown",
   "metadata": {},
   "source": [
    "4. Una caja cuántica tiene 3 electrones, 2 protones y 3 neutrones. Se selecciona una muestra aleatoria de 4 partículas. Si x es el número de electrones e y es el número de protones."
   ]
  },
  {
   "attachments": {},
   "cell_type": "markdown",
   "metadata": {},
   "source": [
    "a)\n",
    "El Numero total de formas de escoger 4 particulas entre diez es: $$Total={8 \\choose 4} $$\n",
    "\n",
    "\n",
    "El numero de  formas de escoger $x$ electrones esta dado por:\n",
    "\n",
    "$$formas_{electrones}(x)={3 \\choose x}$$\n",
    "\n",
    "Similarmente para protones:\n",
    "$$formas_{protones}(x)={2 \\choose y}$$\n",
    "\n",
    "para neutrones:\n",
    "$$formas_{neutrones}(x)={3 \\choose 4-x-y}$$\n",
    "\n",
    "Por lo que el numero de formas de escoger $x$ electrones, $y$ protones y $4-x-y$ neutrones es:\n",
    "\n",
    "$$formas={3 \\choose x}{2 \\choose y}{3 \\choose 4-x-y}$$\n",
    "\n",
    "Por lo que la probabilidad de escoger $x$ electrones, y $y$ protones es:\n",
    "\n",
    "$$f(x)=\\frac{formas}{Total}\\=\\frac{{3 \\choose x}{2 \\choose y}{3 \\choose 4-x-y}}{8 \\choose 4}\\$$"
   ]
  },
  {
   "cell_type": "code",
   "execution_count": 1,
   "metadata": {},
   "outputs": [],
   "source": [
    "import numpy as np\n",
    "from scipy.stats import chi2\n",
    "import matplotlib.pyplot as plt"
   ]
  },
  {
   "cell_type": "code",
   "execution_count": 2,
   "metadata": {},
   "outputs": [],
   "source": [
    "def f2(x,y):\n",
    "  return (np.math.comb(3,x)*np.math.comb(2,y)*np.math.comb(3,4-x-y))/np.math.comb(8,4)"
   ]
  },
  {
   "cell_type": "code",
   "execution_count": 3,
   "metadata": {},
   "outputs": [],
   "source": [
    "P=np.zeros((4,3))\n",
    "x=np.array([0,1,2,3])\n",
    "y=np.array([0,1,2])\n",
    "for i in x:\n",
    "  for j in y:\n",
    "    if i+j<=4:\n",
    "      P[i,j]=f2(i,j)"
   ]
  },
  {
   "attachments": {},
   "cell_type": "markdown",
   "metadata": {},
   "source": [
    "B) Hallar las distribuciones marginales $g(x)$ y $h(y)$."
   ]
  },
  {
   "cell_type": "code",
   "execution_count": 4,
   "metadata": {},
   "outputs": [
    {
     "name": "stdout",
     "output_type": "stream",
     "text": [
      "0.07142857142857142 0.2142857142857143\n"
     ]
    }
   ],
   "source": [
    "g_x=np.sum(P,axis=1)\n",
    "h_y=np.sum(P,axis=0)\n",
    "print(g_x[0],h_y[0])"
   ]
  },
  {
   "attachments": {},
   "cell_type": "markdown",
   "metadata": {},
   "source": [
    "C)Halle el valor esperado de electrones $\\mathbb{E}(x)$."
   ]
  },
  {
   "cell_type": "code",
   "execution_count": 16,
   "metadata": {},
   "outputs": [
    {
     "name": "stdout",
     "output_type": "stream",
     "text": [
      "1.4999999999999998 1.5\n"
     ]
    }
   ],
   "source": [
    "E_x=np.sum(g_x*x)\n",
    "print(E_x,105/70)"
   ]
  },
  {
   "attachments": {},
   "cell_type": "markdown",
   "metadata": {},
   "source": [
    "D) Halle el valor esperado de electrones $\\mathbb{E}(y)$."
   ]
  },
  {
   "cell_type": "code",
   "execution_count": 17,
   "metadata": {},
   "outputs": [
    {
     "name": "stdout",
     "output_type": "stream",
     "text": [
      "1.0 1\n"
     ]
    }
   ],
   "source": [
    "E_y=np.sum(h_y*y)\n",
    "print(E_y,1)"
   ]
  },
  {
   "attachments": {},
   "cell_type": "markdown",
   "metadata": {},
   "source": [
    "E) alcular la covarianza usando $\\sigma_{xy} = \\mathbb{E}(xy) - \\mathbb{E}(x)\\mathbb{E}(y)$."
   ]
  },
  {
   "cell_type": "code",
   "execution_count": 18,
   "metadata": {},
   "outputs": [
    {
     "name": "stdout",
     "output_type": "stream",
     "text": [
      "-0.2142857142857142 -0.21428571428571427\n"
     ]
    }
   ],
   "source": [
    "E_xy=0\n",
    "for i in x:\n",
    "  for j in y:\n",
    "    E_xy+=i*j*P[i,j]\n",
    "COV1=E_xy-E_x*E_y\n",
    "print(COV1,-3/14)"
   ]
  },
  {
   "attachments": {},
   "cell_type": "markdown",
   "metadata": {},
   "source": [
    "F) Calcular la covarianza usando: $\\sigma_{xy} = \\mathbb{E}((x - \\mu_x)(y-\\mu_y))$."
   ]
  },
  {
   "cell_type": "code",
   "execution_count": 19,
   "metadata": {},
   "outputs": [
    {
     "name": "stdout",
     "output_type": "stream",
     "text": [
      "-0.2142857142857143 -0.21428571428571427\n"
     ]
    }
   ],
   "source": [
    "COV2=0\n",
    "for i in x:\n",
    "  for j in y:\n",
    "    if i+j<=4:\n",
    "      COV2+=(i-E_x)*(j-E_y)*P[i,j]\n",
    "print(COV2,-3/14)"
   ]
  },
  {
   "attachments": {},
   "cell_type": "markdown",
   "metadata": {},
   "source": [
    "G) Son las variables x e y independientes?"
   ]
  },
  {
   "cell_type": "code",
   "execution_count": 20,
   "metadata": {},
   "outputs": [
    {
     "data": {
      "image/png": "[encoded data removed]",
      "text/plain": [
       "<Figure size 640x480 with 1 Axes>"
      ]
     },
     "metadata": {},
     "output_type": "display_data"
    }
   ],
   "source": [
    "po=np.zeros_like(P)\n",
    "for i in range(4):\n",
    "    for j in range(3):\n",
    "        po[i,j]=g_x[i]*h_y[j]\n",
    "        \n",
    "fo=P\n",
    "fe=po\n",
    "\n",
    "def GetChi2(x,y):\n",
    "    return np.sum((x-y)**2/y)\n",
    "\n",
    "ObsChi2=GetChi2(fo,fe)\n",
    "df=6\n",
    "\n",
    "CriChi2=chi2.ppf(0.95,df=df)\n",
    "\n",
    "x = np.linspace(0,20,50)\n",
    "y = chi2.pdf(x,df=df)\n",
    "plt.plot(x,y)\n",
    "plt.axvline(x=ObsChi2,color='k')\n",
    "plt.axvline(x=CriChi2,color='r')\n",
    "\n",
    "CL=chi2.cdf(ObsChi2,df=df)\n",
    "pvalue=1-CL"
   ]
  },
  {
   "cell_type": "code",
   "execution_count": 21,
   "metadata": {},
   "outputs": [
    {
     "data": {
      "text/plain": [
       "(array([[0.01530612, 0.04081633, 0.01530612],\n",
       "        [0.09183673, 0.24489796, 0.09183673],\n",
       "        [0.09183673, 0.24489796, 0.09183673],\n",
       "        [0.01530612, 0.04081633, 0.01530612]]),\n",
       " array([[0.        , 0.02857143, 0.04285714],\n",
       "        [0.04285714, 0.25714286, 0.12857143],\n",
       "        [0.12857143, 0.25714286, 0.04285714],\n",
       "        [0.04285714, 0.02857143, 0.        ]]))"
      ]
     },
     "execution_count": 21,
     "metadata": {},
     "output_type": "execute_result"
    }
   ],
   "source": [
    "po,P"
   ]
  },
  {
   "cell_type": "code",
   "execution_count": 22,
   "metadata": {},
   "outputs": [
    {
     "data": {
      "text/plain": [
       "0.9997956866976904"
      ]
     },
     "execution_count": 22,
     "metadata": {},
     "output_type": "execute_result"
    }
   ],
   "source": [
    "pvalue"
   ]
  },
  {
   "attachments": {},
   "cell_type": "markdown",
   "metadata": {},
   "source": [
    "En este ejercicio la covarianza tiene un valor de alrededor de -3/14, de modo que las variables tienen una dependencia "
   ]
  }
 ],
 "metadata": {
  "kernelspec": {
   "display_name": "Python 3",
   "language": "python",
   "name": "python3"
  },
  "language_info": {
   "codemirror_mode": {
    "name": "ipython",
    "version": 3
   },
   "file_extension": ".py",
   "mimetype": "text/x-python",
   "name": "python",
   "nbconvert_exporter": "python",
   "pygments_lexer": "ipython3",
   "version": "3.11.3"
  },
  "orig_nbformat": 4
 },
 "nbformat": 4,
 "nbformat_minor": 2
}
