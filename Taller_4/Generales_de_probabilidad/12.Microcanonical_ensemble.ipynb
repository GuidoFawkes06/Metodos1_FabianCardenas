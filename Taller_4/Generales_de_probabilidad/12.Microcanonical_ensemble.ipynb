{
 "cells": [
  {
   "attachments": {},
   "cell_type": "markdown",
   "metadata": {},
   "source": [
    "12. Hay un sistema constituido por N particulas, cada una puede estar en dos niveles de energia distintos (no degenerados) de valor $\\epsilon _0$ y $\\epsilon _1$ ($\\epsilon _1$ > $\\epsilon _0$). Si llamamos $n_0$ al número de partículas en el estado $\\epsilon _0$ y a $n_1$ al número de partículas en el estado $\\epsilon _1$. Se tienen las siguientes restricciones para la energía total y el número total de partículas:\n",
    "$$ E = n_0\\epsilon_0 + n_1\\epsilon_1$$\n",
    "$$ N = n_0 + n_1$$"
   ]
  },
  {
   "attachments": {},
   "cell_type": "markdown",
   "metadata": {},
   "source": [
    "A) Muestre que el numero de configuraciones posibles (micro-estados) está dado por:\n",
    "$$\n",
    "\\Omega(N,n_o)=\\frac{N!}{n_0!(n_1)!}\n",
    "$$"
   ]
  },
  {
   "attachments": {},
   "cell_type": "markdown",
   "metadata": {},
   "source": [
    "A)\n",
    "\n",
    "Usar combinacion de $n_0$ entre $N$. Por lo que se toma el número total de partículas dividido por por el factorial del número de partículas en el estado $-1$ y el estado $1$ así:\n",
    "$$\n",
    "\\Omega(N,n_o)={N \\choose n_0}=\\frac{N!}{n_0!(N-n0)!}\n",
    "$$\n",
    "\n",
    "$N=n_0+n_1$ , entonces $N-n_0=n_1$, y \n",
    "$$\n",
    "\\Omega(N,n_o)=\\frac{N!}{n_0!n_1!}\n",
    "$$"
   ]
  },
  {
   "attachments": {},
   "cell_type": "markdown",
   "metadata": {},
   "source": [
    "B) Usando la ecuación de la entropía $S(N,n_0) = k_B\\ln(\\Omega)$ y la fórmula de Stirling $\\ln(N!) \\approx N\\ln(N) - N$, muestre que la entropía es igual a:\n",
    "$$S(N,n_0,n_1) = k_B\\left(N\\ln(N)-\\sum_{i\\in\\{ 0,1\\}}n_i\\ln(n_i)\\right)$$"
   ]
  },
  {
   "attachments": {},
   "cell_type": "markdown",
   "metadata": {},
   "source": [
    "B)\n",
    "\n",
    "$$\n",
    "\\begin{align*}\n",
    "S(N,n_0,n_1) &= k_Bln(\\Omega(N,n_o,n_1)) & \\\\\n",
    "\n",
    "&=k_Bln(\\frac{N!}{n_0!n_1!}) & \\\\\n",
    "\n",
    "&=k_B[ln(N!)-ln(n_0!)-ln(n_1!)] & \\\\\n",
    "\n",
    "&\\approx k_B[Nln(N)-N-n_0ln(n_0)+n_0-n_1ln(n_1)+n_1]& \\\\\n",
    "\\end{align*}\n",
    "$$\n",
    "\n",
    "Como $n_0+n_1-N=0$ :\n",
    "\n",
    "$$\n",
    "\\begin{align*}\n",
    "k_B[Nln(N)-N-n_0ln(n_0)+n_0-n_1ln(n_1)+n_1] &= k_B[Nln(N)-n_0ln(n_0)-n_1ln(n_1)] &\\\\ &= k_B[Nln(N)-\\sum_{i=0}^1n_iln(n_i)]\n",
    "\\end{align*}\n",
    "$$"
   ]
  },
  {
   "attachments": {},
   "cell_type": "markdown",
   "metadata": {},
   "source": [
    "C) Si definimos la fracción $x = \\frac{n_1}{N}$ de partículas que se encuentran en el nivel de energía $\\epsilon_1$. Muestre que la entropía toma la forma:\n",
    "$$S(N,x) = -k_BN(x\\ln x + (1-x)\\ln(1-x)).$$"
   ]
  },
  {
   "attachments": {},
   "cell_type": "markdown",
   "metadata": {},
   "source": [
    "C)\n",
    "\n",
    "$$\n",
    "S=k_B[Nln(N)-n_0ln(n_0)-n_1ln(n_1)]\n",
    "$$\n",
    "\n",
    "definir $x=n_1/N$, entonces $n_1=Nx$ y $n_0=(N-n_1)/N=1-x$\n",
    "\n",
    "$$\n",
    "\\begin{align*}\n",
    "S&=k_B[Nln(N)-n_0ln(n_0)-n_1ln(n_1)]&\\\\&=K_b[Nln(N)-(1-x)ln(1-x)-Nxln(Nx)]&\\\\&=k_BN[ln(N)-(1-x)ln(1-x)-xln(x)-ln(N)]&\\\\&=-K_bN[(1-x)ln(1-x)+xln(x)]\n",
    "\\end{align*}\n",
    "$$"
   ]
  },
  {
   "attachments": {},
   "cell_type": "markdown",
   "metadata": {},
   "source": [
    "D) Dibuje la entropía $S(N,x)/k_BN$ como función de $x$."
   ]
  },
  {
   "cell_type": "code",
   "execution_count": 4,
   "metadata": {},
   "outputs": [],
   "source": [
    "import numpy as np\n",
    "import matplotlib.pyplot as plt"
   ]
  },
  {
   "cell_type": "code",
   "execution_count": 5,
   "metadata": {},
   "outputs": [],
   "source": [
    "def S(x):\n",
    "  return -(x*np.log(x)+(1-x)*np.log(1-x))"
   ]
  },
  {
   "cell_type": "code",
   "execution_count": 6,
   "metadata": {},
   "outputs": [
    {
     "data": {
      "text/plain": [
       "[<matplotlib.lines.Line2D at 0x23c1f0740d0>]"
      ]
     },
     "execution_count": 6,
     "metadata": {},
     "output_type": "execute_result"
    },
    {
     "data": {
      "image/png": "[encoded data removed]",
      "text/plain": [
       "<Figure size 640x480 with 1 Axes>"
      ]
     },
     "metadata": {},
     "output_type": "display_data"
    }
   ],
   "source": [
    "x=np.linspace(0.001,0.9999,100)\n",
    "Entropy=S(x)\n",
    "plt.plot(x,Entropy)"
   ]
  },
  {
   "attachments": {},
   "cell_type": "markdown",
   "metadata": {},
   "source": [
    "E) De la primera ley de la termodinámica se tiene:\n",
    "\n",
    "$$ \\frac{1}{T} =\n",
    "(\\frac{\\partial S}{\\partial E})_{N}=\n",
    "(\\frac{\\partial S}{\\partial x})_{N}\n",
    "(\\frac{\\partial x}{\\partial E})_{N}\n",
    "$$\n",
    "\n",
    " muestre que la proporción de partículas como función de la temperatura destá dada por:\n",
    "\n",
    "$$x(T) = \\frac{1}{1 + e^{-\\Delta E/k_BT}}$$"
   ]
  },
  {
   "attachments": {},
   "cell_type": "markdown",
   "metadata": {},
   "source": [
    "E)\n",
    "\n",
    "\\begin{align*}\n",
    "\\frac{\\partial S}{\\partial x} &= \\partial_x \\left( -k_BN \\left[ x\\ln x + (1-x)\\ln(1-x)\\right]\\right)\\\\\n",
    "&= -k_BN\\left( 1 + \\ln x - 1 - \\ln(1-x)\\right) \\\\\n",
    "&= -k_BN\\ln\\left(\\frac{x}{1-x}\\right)\n",
    "\\end{align*}\n",
    "y \n",
    "\\begin{align*}\n",
    "\\frac{\\partial x}{\\partial E} &= \\partial_E\\left(\\frac{1}{N(\\epsilon_1 - \\epsilon_0)}(E - N\\epsilon_0)\\right) \\\\\n",
    "&= \\frac{1}{N(\\epsilon_1 - \\epsilon_0)}\n",
    "\\end{align*}\n",
    "\n",
    "Esto es \n",
    "\\begin{align*}\n",
    "\\frac{\\partial S}{\\partial E} &= \\left(\\frac{\\partial S}{\\partial x}\\right) \\left(\\frac{\\partial x}{\\partial E}\\right) \\\\\n",
    "&= -k_BN\\ln\\left(\\frac{x}{1-x}\\right) \\frac{1}{N(\\epsilon_1 - \\epsilon_0)} \\\\\n",
    "&= \\frac{k_B}{\\epsilon_1 - \\epsilon_0}\\ln\\left(\\frac{1-x}{x}\\right)  = \\frac{1}{T}\n",
    "\\end{align*}\n",
    "\n",
    "Resolviendo para $x$:\n",
    "\\begin{gather*}\n",
    "\\frac{1}{T} = \\frac{k_B}{\\epsilon_1 - \\epsilon_0}\\ln\\left(\\frac{1-x}{x}\\right) \\\\\n",
    "\\frac{\\Delta E}{k_B T} = \\ln\\left(\\frac{1-x}{x}\\right)\\\\\n",
    "e^{\\frac{\\Delta E}{k_B T}} =  \\frac{1}{x} -1 \\\\\n",
    "1 + e^{\\frac{\\Delta E}{k_B T}} = \\frac{1}{x} \\\\\n",
    "\\frac{1}{1 + e^{\\frac{\\Delta E}{k_B T}}} = x\n",
    "\\end{gather*}"
   ]
  },
  {
   "attachments": {},
   "cell_type": "markdown",
   "metadata": {},
   "source": [
    "F) Para bajas y altas temperaturas $T \\to 0$ y $T \\to \\infty$ encuentrar $x(T)$. Muestre que la entropía a altas temperaturas vale:\n",
    "$$\\lim_{T\\to \\infty } S(T) = k_BN\\ln(2).$$"
   ]
  },
  {
   "attachments": {},
   "cell_type": "markdown",
   "metadata": {},
   "source": [
    "F)\n",
    "\n",
    "$$\n",
    "\\lim_{T \\to \\infty} x(T)=\\lim_{T \\to \\infty} \\frac{1}{1+e^{-{\\Delta E}/{k_bT}}}=\\frac{1}{1+e^{-0}}=1/2\n",
    "$$\n",
    "\n",
    "$$\n",
    "\\lim_{T \\to 0^{+}} x(T)=\\lim_{T \\to 0^{+}}\\frac{1}{1+e^{-{\\Delta E}/{k_bT}}}=\\frac{1}{1+e^{-\\infty}}=1\n",
    "$$\n",
    "\n",
    "$$\n",
    "\\lim_{T \\to 0^{-}} x(T)=\\lim_{T \\to 0^{-}}\\frac{1}{1+e^{-{\\Delta E}/{k_bT}}}=\\frac{1}{1+e^{\\infty}}=0\n",
    "$$\n",
    "\n",
    "$$\n",
    "\\lim_{T \\to 0} x(T)=\\lim_{T \\to 0}\\frac{1}{1+e^{-{\\Delta E}/{k_bT}}}=no\\ existe\n",
    "$$\n",
    "\n",
    "$$\n",
    "\\begin{align*}\n",
    "\\lim_{T \\to \\infty} S(T)&=\\lim_{T \\to \\infty} -K_bN[(1-x(T)ln(1-x(T)+x(T)ln(x(T))]\\\\\n",
    "&=-k_BN[\\lim_{T \\to \\infty}(1-x(T)ln(1-x(T)+x(T)ln(x(T))]\\\\\n",
    "&=-k_BN[(1-1/2)ln(1-1/2)+1/2ln(1/2)]\\\\\n",
    "&=-k_BN[1/2ln(1/2)+1/2ln(1/2)]\\\\\n",
    "&=-k_BN[ln(1/2)]\\\\&=k_BNln(2)\n",
    "\\end{align*}\n",
    "$$"
   ]
  },
  {
   "attachments": {},
   "cell_type": "markdown",
   "metadata": {},
   "source": [
    "G) Un gas ideal conformado por $N$ partículas, realiza una expansión isotérmica de un volumen $V_1 = V$ a un volumen $V_2 = 2V$. Calcule el cambio de entropía y compare con el resultado anterior. ¿Cómo se relacionan?"
   ]
  },
  {
   "attachments": {},
   "cell_type": "markdown",
   "metadata": {},
   "source": [
    "G)\n",
    "-Tomar un camino isotermico, ya que la entropia es funcion de estado:\n",
    "$$\n",
    "S=\\int_{V_1}^{V_2}\\frac{\\delta Q}{T}=1/T\\int_{V_1}^{V_2}\\frac{nRT}{V}dv=\\frac{nRTln(V_2/V_1)}{T}=nRln(2V_1/V_1)=nRln(2)=k_Bln(2)\n",
    "$$"
   ]
  },
  {
   "cell_type": "code",
   "execution_count": null,
   "metadata": {},
   "outputs": [],
   "source": []
  }
 ],
 "metadata": {
  "kernelspec": {
   "display_name": "Python 3",
   "language": "python",
   "name": "python3"
  },
  "language_info": {
   "codemirror_mode": {
    "name": "ipython",
    "version": 3
   },
   "file_extension": ".py",
   "mimetype": "text/x-python",
   "name": "python",
   "nbconvert_exporter": "python",
   "pygments_lexer": "ipython3",
   "version": "3.11.3"
  },
  "orig_nbformat": 4
 },
 "nbformat": 4,
 "nbformat_minor": 2
}
