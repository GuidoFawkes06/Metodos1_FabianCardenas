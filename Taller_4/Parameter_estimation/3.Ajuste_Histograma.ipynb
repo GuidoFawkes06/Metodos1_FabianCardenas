{
 "cells": [
  {
   "attachments": {},
   "cell_type": "markdown",
   "metadata": {},
   "source": [
    "3. Implemente el algoritmo de Metrópolis Hastings para hacer el ajuste de un histograma cuyas frecuencias relativas siguen una distribución normal."
   ]
  },
  {
   "cell_type": "code",
   "execution_count": 25,
   "metadata": {},
   "outputs": [],
   "source": [
    "import numpy as np\n",
    "import pandas as pd\n",
    "from tqdm import tqdm\n",
    "import matplotlib.pyplot as plt"
   ]
  },
  {
   "cell_type": "code",
   "execution_count": 26,
   "metadata": {},
   "outputs": [],
   "source": [
    "file = 'Gaussiana.csv'\n",
    "url = 'https://raw.githubusercontent.com/asegura4488/Database/main/MetodosComputacionalesReforma/Gaussiano.csv'"
   ]
  },
  {
   "cell_type": "code",
   "execution_count": 27,
   "metadata": {},
   "outputs": [],
   "source": [
    "data = pd.read_csv(url,sep=\",\",engine='python')\n",
    "X = data.x"
   ]
  },
  {
   "cell_type": "code",
   "execution_count": 28,
   "metadata": {},
   "outputs": [],
   "source": [
    "transition_model = lambda x: [np.random.normal(x[0],0.5,(1,)),np.random.normal(x[1],0.5,(1,))]"
   ]
  },
  {
   "cell_type": "code",
   "execution_count": 29,
   "metadata": {},
   "outputs": [],
   "source": [
    "def prior(miu, desvest):\n",
    "    valor = 0\n",
    "    if (3 <= miu <=5):\n",
    "        if (0.5 <= desvest <= 3.5):\n",
    "            valor = 1\n",
    "    return valor"
   ]
  },
  {
   "cell_type": "code",
   "execution_count": 30,
   "metadata": {},
   "outputs": [],
   "source": [
    "def likelihood(miu,desvest,x):\n",
    "    valor = 1\n",
    "    for every in range(len(x)):\n",
    "        valor*= (np.sqrt(2 * np.pi * desvest**2))**(-1)*(np.e**(-(miu-x[every])**2/(2*desvest**2)))\n",
    "    return valor "
   ]
  },
  {
   "cell_type": "code",
   "execution_count": 31,
   "metadata": {},
   "outputs": [],
   "source": [
    "def log_distrb(miu, desvest, x):\n",
    "    log = np.log(prior(miu, desvest)*likelihood(miu,desvest,x))\n",
    "    return log"
   ]
  },
  {
   "cell_type": "code",
   "execution_count": 32,
   "metadata": {},
   "outputs": [],
   "source": [
    "def algoritmo_metropolis(x):\n",
    "    N = 2*10**4\n",
    "    miu_ = np.random.uniform(3, 5)\n",
    "    desvest_ = np.random.uniform(0.5, 3.5)\n",
    "    log_distrb_ = log_distrb(miu_, desvest_, x)\n",
    "    \n",
    "    miu_valores = [miu_]\n",
    "    desvest_valores = [desvest_]\n",
    "    \n",
    "    for every in range(N):\n",
    "        miu__ = np.random.normal(miu_, 0.1)\n",
    "        desvest__ = np.random.normal(desvest_, 0.1)\n",
    "        log_new = log_distrb( miu__, desvest__,x)\n",
    "        \n",
    "        if log_new > log_distrb_:\n",
    "            miu_ = miu__\n",
    "            desvest_ = desvest__\n",
    "            log_distrb_ = log_new\n",
    "            \n",
    "        else:\n",
    "            aceptado = np.exp(log_new - log_distrb_)\n",
    "            \n",
    "            if np.random.uniform() < aceptado:\n",
    "                miu_ = miu__\n",
    "                desvest_ = desvest__\n",
    "                log_distrb_ = log_new\n",
    "                \n",
    "        miu_valores.append(miu_)\n",
    "        desvest_valores.append(desvest_)\n",
    "    \n",
    "    return miu_valores, desvest_valores"
   ]
  },
  {
   "cell_type": "code",
   "execution_count": 33,
   "metadata": {},
   "outputs": [],
   "source": [
    "miu_selected, desvest_selected = algoritmo_metropolis(X)\n",
    "\n",
    "mediana_miu=np.percentile(miu_selected,50)\n",
    "mediana_desvest=np.percentile(desvest_selected,50)"
   ]
  },
  {
   "cell_type": "code",
   "execution_count": 34,
   "metadata": {},
   "outputs": [
    {
     "name": "stdout",
     "output_type": "stream",
     "text": [
      "La mediana de miu es: 4.022063728161637\n",
      "La mediana de sigma es: 1.8245689962127944\n"
     ]
    }
   ],
   "source": [
    "print(\"La mediana de miu es:\", mediana_miu )\n",
    "print(\"La mediana de sigma es:\", mediana_desvest )"
   ]
  },
  {
   "cell_type": "code",
   "execution_count": 35,
   "metadata": {},
   "outputs": [],
   "source": [
    "miu_low=np.percentile(miu_selected,16)\n",
    "miu_up=np.percentile(miu_selected,84)\n",
    "desvest_low=np.percentile(desvest_selected,16)\n",
    "desvest_up=np.percentile(desvest_selected,84)"
   ]
  },
  {
   "cell_type": "code",
   "execution_count": 36,
   "metadata": {},
   "outputs": [
    {
     "name": "stdout",
     "output_type": "stream",
     "text": [
      "Los valores sigma+- de mu en un intervalo de confianza del CL = 68% son:  0.18127471596429068 y 0.17964893273696614\n",
      "Los valores sigma+- de sigma en un intervalo de confianza del CL = 68% son:  0.12219247571209269 y 0.13598320658272822\n"
     ]
    }
   ],
   "source": [
    "print(\"Los valores sigma+- de mu en un intervalo de confianza del CL = 68% son: \", mediana_miu - miu_low , \"y\", miu_up - mediana_miu  )\n",
    "print(\"Los valores sigma+- de sigma en un intervalo de confianza del CL = 68% son: \", mediana_desvest - desvest_low , \"y\", -mediana_desvest + desvest_up)"
   ]
  },
  {
   "attachments": {},
   "cell_type": "markdown",
   "metadata": {},
   "source": [
    "$$\n",
    "\\hat{\\mu}=4.01_{0.18}^{0.18} at68\\%CL\n",
    "$$\n",
    "\n",
    "$$\n",
    "\\hat{\\sigma}=1.83_{0.11}^{0.13} at68\\%CL\n",
    "$$"
   ]
  }
 ],
 "metadata": {
  "kernelspec": {
   "display_name": "Python 3",
   "language": "python",
   "name": "python3"
  },
  "language_info": {
   "codemirror_mode": {
    "name": "ipython",
    "version": 3
   },
   "file_extension": ".py",
   "mimetype": "text/x-python",
   "name": "python",
   "nbconvert_exporter": "python",
   "pygments_lexer": "ipython3",
   "version": "3.11.3"
  },
  "orig_nbformat": 4
 },
 "nbformat": 4,
 "nbformat_minor": 2
}
