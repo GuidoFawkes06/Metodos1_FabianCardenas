{
 "cells": [
  {
   "attachments": {},
   "cell_type": "markdown",
   "metadata": {},
   "source": [
    "3. Implemente el algoritmo de Metrópolis Hastings para hacer el ajuste de un histograma cuyas frecuencias relativas siguen una distribución normal."
   ]
  },
  {
   "cell_type": "code",
   "execution_count": 10,
   "metadata": {},
   "outputs": [],
   "source": [
    "import numpy as np\n",
    "import pandas as pd\n",
    "from tqdm import tqdm"
   ]
  },
  {
   "cell_type": "code",
   "execution_count": 11,
   "metadata": {},
   "outputs": [],
   "source": [
    "file = 'Gaussiana.csv'\n",
    "url = 'https://raw.githubusercontent.com/asegura4488/Database/main/MetodosComputacionalesReforma/Gaussiano.csv'"
   ]
  },
  {
   "cell_type": "code",
   "execution_count": 12,
   "metadata": {},
   "outputs": [],
   "source": [
    "data = pd.read_csv(url,sep=\",\",engine='python')\n",
    "X = data.x"
   ]
  },
  {
   "cell_type": "code",
   "execution_count": 13,
   "metadata": {},
   "outputs": [],
   "source": [
    "transition_model = lambda x: [np.random.normal(x[0],0.5,(1,)),np.random.normal(x[1],0.5,(1,))]"
   ]
  },
  {
   "cell_type": "code",
   "execution_count": 14,
   "metadata": {},
   "outputs": [],
   "source": [
    "def prior(x):\n",
    "    \n",
    "    if(3.<=x[0] <=5.)and(0.5<=x[1] <=3.5):\n",
    "        return 1\n",
    "    else:\n",
    "        return 0"
   ]
  },
  {
   "cell_type": "code",
   "execution_count": 15,
   "metadata": {},
   "outputs": [],
   "source": [
    "def Likelihood(x,data):\n",
    "\n",
    "  return (np.exp(-0.5*(x[0]-data)**2/x[1]**2))/(np.sqrt(2*np.pi*x[1]**2))"
   ]
  },
  {
   "cell_type": "code",
   "execution_count": 16,
   "metadata": {},
   "outputs": [],
   "source": [
    "def LogLikelihood(x,data):\n",
    "    return np.sum(np.log(Likelihood(x,data)))"
   ]
  },
  {
   "cell_type": "code",
   "execution_count": 17,
   "metadata": {},
   "outputs": [],
   "source": [
    "def acceptance(x, x_new):\n",
    "    if x_new>x:\n",
    "        return True\n",
    "    else:\n",
    "        accept=np.random.uniform(0,1)\n",
    "\n",
    "        return (accept < (np.exp(x_new-x)))"
   ]
  },
  {
   "cell_type": "code",
   "execution_count": 20,
   "metadata": {},
   "outputs": [],
   "source": [
    "def metropolis_hastings(likelihood_computer,prior, transition_model, param_init,iterations,data,acceptance):\n",
    "   \n",
    "    x = param_init\n",
    "    accepted =np.zeros((iterations,2))\n",
    "   \n",
    "    for i in  tqdm(range(iterations)):\n",
    "        x_new =  transition_model(x)    \n",
    "        x_lik = likelihood_computer(x,data)\n",
    "        x_new_lik = likelihood_computer(x_new,data) \n",
    "        if (acceptance(x_lik + np.log(prior(x)),x_new_lik+np.log(prior(x_new)))):            \n",
    "            x = x_new\n",
    "            accepted[i]=x\n",
    "        else:\n",
    "            accepted[i]=x    \n",
    "                \n",
    "    return accepted[1000:,:]"
   ]
  },
  {
   "cell_type": "code",
   "execution_count": 21,
   "metadata": {},
   "outputs": [
    {
     "name": "stderr",
     "output_type": "stream",
     "text": [
      "  0%|          | 0/20000 [00:00<?, ?it/s]C:\\Users\\USUARIO\\AppData\\Local\\Temp\\ipykernel_30364\\2092399341.py:10: RuntimeWarning: divide by zero encountered in log\n",
      "  if (acceptance(x_lik + np.log(prior(x)),x_new_lik+np.log(prior(x_new)))):\n",
      "C:\\Users\\USUARIO\\AppData\\Local\\Temp\\ipykernel_30364\\3648019792.py:7: RuntimeWarning: invalid value encountered in scalar subtract\n",
      "  return (accept < (np.exp(x_new-x)))\n",
      "  0%|          | 74/20000 [00:00<01:26, 231.48it/s]\n"
     ]
    },
    {
     "ename": "ValueError",
     "evalue": "setting an array element with a sequence. The requested array would exceed the maximum number of dimension of 1.",
     "output_type": "error",
     "traceback": [
      "\u001b[1;31m---------------------------------------------------------------------------\u001b[0m",
      "\u001b[1;31mValueError\u001b[0m                                Traceback (most recent call last)",
      "Cell \u001b[1;32mIn[21], line 1\u001b[0m\n\u001b[1;32m----> 1\u001b[0m accepted \u001b[39m=\u001b[39m metropolis_hastings(LogLikelihood,prior,transition_model,[\u001b[39m2\u001b[39;49m,\u001b[39m3\u001b[39;49m], \u001b[39m20000\u001b[39;49m,X,acceptance)\n",
      "Cell \u001b[1;32mIn[20], line 12\u001b[0m, in \u001b[0;36mmetropolis_hastings\u001b[1;34m(likelihood_computer, prior, transition_model, param_init, iterations, data, acceptance)\u001b[0m\n\u001b[0;32m     10\u001b[0m \u001b[39mif\u001b[39;00m (acceptance(x_lik \u001b[39m+\u001b[39m np\u001b[39m.\u001b[39mlog(prior(x)),x_new_lik\u001b[39m+\u001b[39mnp\u001b[39m.\u001b[39mlog(prior(x_new)))):            \n\u001b[0;32m     11\u001b[0m     x \u001b[39m=\u001b[39m x_new\n\u001b[1;32m---> 12\u001b[0m     accepted[i]\u001b[39m=\u001b[39mx\n\u001b[0;32m     13\u001b[0m \u001b[39melse\u001b[39;00m:\n\u001b[0;32m     14\u001b[0m     accepted[i]\u001b[39m=\u001b[39mx    \n",
      "\u001b[1;31mValueError\u001b[0m: setting an array element with a sequence. The requested array would exceed the maximum number of dimension of 1."
     ]
    }
   ],
   "source": [
    "accepted = metropolis_hastings(LogLikelihood,prior,transition_model,[2,3], 20000,X,acceptance)"
   ]
  },
  {
   "cell_type": "code",
   "execution_count": null,
   "metadata": {},
   "outputs": [],
   "source": [
    "Best_params=np.array([np.percentile(accepted[:,0],50),np.percentile(accepted[:,1],50)])"
   ]
  },
  {
   "cell_type": "code",
   "execution_count": null,
   "metadata": {},
   "outputs": [],
   "source": [
    "_x = np.linspace(np.min(X),np.max(X),100)\n",
    "\n",
    "plt.hist(X,density=True)\n",
    "plt.plot(_x,Likelihood(Best_params,_x))"
   ]
  },
  {
   "cell_type": "code",
   "execution_count": 22,
   "metadata": {},
   "outputs": [
    {
     "ename": "NameError",
     "evalue": "name 'Best_params' is not defined",
     "output_type": "error",
     "traceback": [
      "\u001b[1;31m---------------------------------------------------------------------------\u001b[0m",
      "\u001b[1;31mNameError\u001b[0m                                 Traceback (most recent call last)",
      "Cell \u001b[1;32mIn[22], line 1\u001b[0m\n\u001b[1;32m----> 1\u001b[0m Best_params\n",
      "\u001b[1;31mNameError\u001b[0m: name 'Best_params' is not defined"
     ]
    }
   ],
   "source": [
    "Best_params"
   ]
  },
  {
   "cell_type": "code",
   "execution_count": null,
   "metadata": {},
   "outputs": [],
   "source": [
    "Percentile84=np.array([np.percentile(accepted[:,0],84),np.percentile(accepted[:,1],84)])\n",
    "Percentile16=np.array([np.percentile(accepted[:,0],16),np.percentile(accepted[:,1],16)])\n",
    "\n",
    "Mu_error=[Percentile84[0]-Best_params[0],Percentile16[0]-Best_params[0]]\n",
    "Sigma_error=[Percentile84[1]-Best_params[1],Percentile16[1]-Best_params[1]]\n",
    "\n",
    "Mu_error,Sigma_error"
   ]
  },
  {
   "attachments": {},
   "cell_type": "markdown",
   "metadata": {},
   "source": [
    "$$\n",
    "\\hat{\\mu}=4.01_{0.18}^{0.18} at68\\%CL\n",
    "$$\n",
    "\n",
    "$$\n",
    "\\hat{\\sigma}=1.83_{0.11}^{0.13} at68\\%CL\n",
    "$$"
   ]
  }
 ],
 "metadata": {
  "kernelspec": {
   "display_name": "Python 3",
   "language": "python",
   "name": "python3"
  },
  "language_info": {
   "codemirror_mode": {
    "name": "ipython",
    "version": 3
   },
   "file_extension": ".py",
   "mimetype": "text/x-python",
   "name": "python",
   "nbconvert_exporter": "python",
   "pygments_lexer": "ipython3",
   "version": "3.11.3"
  },
  "orig_nbformat": 4
 },
 "nbformat": 4,
 "nbformat_minor": 2
}
