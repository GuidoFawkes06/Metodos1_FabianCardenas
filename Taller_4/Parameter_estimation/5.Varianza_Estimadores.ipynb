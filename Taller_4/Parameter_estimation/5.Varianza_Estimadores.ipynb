{
 "cells": [
  {
   "attachments": {},
   "cell_type": "markdown",
   "metadata": {},
   "source": [
    "5. En general la varianza de estimadores es no calculable:\n",
    "   $$ V(\\theta) = E(\\theta^2)-E(\\theta)^2$$"
   ]
  },
  {
   "attachments": {},
   "cell_type": "markdown",
   "metadata": {},
   "source": [
    "En el caso de la distribución exponencial tenemos un valor analítico dado por:\n",
    "$$\\begin{align*}\n",
    "V(\\hat{\\theta}) &= \\int_{0}^{\\infty} \\dots \\int_{0}^{\\infty} \\left(\\frac{1}{n} \\cdot \\sum_{i = 1}^{n} x_{i} \\right)^{2} \\cdot \\frac{1}{\\theta} e^{-x_{1}/\\theta} \\dots \\frac{1}{\\theta} \\cdot e^{-x_{n}/\\theta} dx_{1} \\cdots dx_{n} - \\left[ \\int_{0}^{\\infty} \\dots \\int_{0}^{\\infty} \\left(\\frac{1}{n} \\cdot \\sum_{i = 1}^{n} x_{i} \\right) \\cdot \\frac{1}{\\theta} e^{-x_{1}/\\theta} \\dots \\frac{1}{\\theta} \\cdot e^{-x_{n}/\\theta} dx_{1} \\cdots dx_{n} \\right]^{2} \\\\&= \\frac{\\theta^{2}}{n}.\n",
    "\\end{align*}$$"
   ]
  },
  {
   "attachments": {},
   "cell_type": "markdown",
   "metadata": {},
   "source": [
    "Permitámonos avanzar paso a paso para encontrar la varianza del estimador para la distribución exponencial.\n",
    "Se nos da una muestra aleatoria $X_1, X_2, \\dots, X_n$ de una distribución exponencial con parámetro $\\theta$. El estimador de máxima verosimilitud (MLE) para $\\theta$ está dado por la media muestral:\n",
    "\n",
    "$$\\hat{\\theta} = \\frac{1}{n} \\sum_{i=1}^n X_i$$\n",
    "\n",
    "Ahora, nosotros queremos encontrar la varianza de este estimador, el cual viene dado por:\n",
    "\n",
    "$$V(\\hat{\\theta}) = E(\\hat{\\theta}^2) - E(\\hat{\\theta})^2$$\n",
    "\n",
    "Primero, encontremos $E(\\hat{\\theta})$. Desde que $\\hat{\\theta}$ es la media muestral, nosotros sabemos que:\n",
    "\n",
    "$$E(\\hat{\\theta}) = E\\left(\\frac{1}{n} \\sum_{i=1}^n X_i\\right) = \\frac{1}{n} \\sum_{i=1}^n E(X_i)$$\n",
    "\n",
    "Para una distribución exponencial, $E(X_i) = \\theta$. Por lo tanto:\n",
    "\n",
    "$$E(\\hat{\\theta}) = \\frac{1}{n} \\sum_{i=1}^n \\theta = \\frac{1}{n} \\cdot n \\theta = \\theta$$\n",
    "\n",
    "Ahora, encontremos $E(\\hat{\\theta}^2)$:\n",
    "\n",
    "$$E(\\hat{\\theta}^2) = E\\left(\\frac{1}{n^2} \\left(\\sum_{i=1}^n X_i\\right)^2\\right)$$\n",
    "\n",
    "Expandiendo el cuadrado, obtenemos:\n",
    "\n",
    "$$E(\\hat{\\theta}^2) = \\frac{1}{n^2} E\\left(\\sum_{i=1}^n X_i^2 + 2\\sum_{i=1}^n \\sum_{j=i+1}^n X_i X_j\\right)$$\n",
    "\n",
    "Ahora podemos encontrar las expectativas por separado:\n",
    "\n",
    "$$E\\left(\\sum_{i=1}^n X_i^2\\right) = \\sum_{i=1}^n E(X_i^2) = nE(X^2)$$\n",
    "\n",
    "Para una distribución exponencial, $E(X^2) = 2\\theta^2$. Por lo tanto:\n",
    "\n",
    "$$E\\left(\\sum_{i=1}^n X_i^2\\right) = n(2\\theta^2) = 2n\\theta^2$$\n",
    "\n",
    "Ahora, encontremos la expectativa de los términos cruzados:\n",
    "\n",
    "$$E\\left(\\sum_{i=1}^n \\sum_{j=i+1}^n X_i X_j\\right) = \\sum_{i=1}^n \\sum_{j=i+1}^n E(X_i X_j)$$\n",
    "\n",
    "Ya que $X_i$ y $X_j$ son independientes, $E(X_i X_j) = E(X_i)E(X_j) = \\theta^2$. Hay $\\frac{n(n-1)}{2}$ como terminos, entonces:\n",
    "\n",
    "$$E\\left(\\sum_{i=1}^n \\sum_{j=i+1}^n X_i X_j\\right) = \\frac{n(n-1)}{2} \\theta^2$$\n",
    "\n",
    "Ahora podemos hallar $E(\\hat{\\theta}^2)$:\n",
    "\n",
    "$$E(\\hat{\\theta}^2) = \\frac{1}{n^2}\\left(2n\\theta^2 + n(n-1)\\theta^2\\right) = \\frac{2n\\theta^2 + n^2\\theta^2 - n\\theta^2}{n^2} = \\frac{n\\theta^2}{n} = \\frac{\\theta^2}{n}$$\n",
    "\n",
    "Finalmente, podemos encontrar la varianza del estimador:\n",
    "\n",
    "$$V(\\hat{\\theta}) = E(\\hat{\\theta}^2) - E(\\hat{\\theta})^2 = \\frac{\\theta^2}{n} - \\theta^2 = \\frac{\\theta^2}{n}$$"
   ]
  },
  {
   "cell_type": "code",
   "execution_count": 2,
   "metadata": {},
   "outputs": [],
   "source": [
    "import numpy as np\n",
    "from tqdm import tqdm"
   ]
  },
  {
   "cell_type": "code",
   "execution_count": 4,
   "metadata": {},
   "outputs": [],
   "source": [
    "N=int(1e6)\n",
    "theta=2\n",
    "n=20\n",
    "Points=np.zeros([N,n])"
   ]
  },
  {
   "cell_type": "code",
   "execution_count": 5,
   "metadata": {},
   "outputs": [
    {
     "name": "stderr",
     "output_type": "stream",
     "text": [
      "100%|██████████| 1000000/1000000 [00:04<00:00, 248327.01it/s]\n"
     ]
    }
   ],
   "source": [
    "for i in tqdm(range(N)):   \n",
    "   Points[i]=(np.random.exponential(theta,n))"
   ]
  },
  {
   "cell_type": "code",
   "execution_count": 6,
   "metadata": {},
   "outputs": [],
   "source": [
    "Promedio=np.mean(Points,axis=1)"
   ]
  },
  {
   "cell_type": "code",
   "execution_count": 7,
   "metadata": {},
   "outputs": [],
   "source": [
    "Var_estimada=np.var(Promedio,ddof=1)"
   ]
  },
  {
   "cell_type": "code",
   "execution_count": 9,
   "metadata": {},
   "outputs": [
    {
     "name": "stdout",
     "output_type": "stream",
     "text": [
      "0.19960869494836586 0.2\n"
     ]
    }
   ],
   "source": [
    "print(Var_estimada,theta**2/n)"
   ]
  }
 ],
 "metadata": {
  "kernelspec": {
   "display_name": "Python 3",
   "language": "python",
   "name": "python3"
  },
  "language_info": {
   "codemirror_mode": {
    "name": "ipython",
    "version": 3
   },
   "file_extension": ".py",
   "mimetype": "text/x-python",
   "name": "python",
   "nbconvert_exporter": "python",
   "pygments_lexer": "ipython3",
   "version": "3.11.3"
  },
  "orig_nbformat": 4
 },
 "nbformat": 4,
 "nbformat_minor": 2
}
