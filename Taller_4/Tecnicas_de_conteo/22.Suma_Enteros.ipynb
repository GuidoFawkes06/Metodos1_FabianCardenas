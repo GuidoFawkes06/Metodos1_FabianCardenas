{
 "cells": [
  {
   "attachments": {},
   "cell_type": "markdown",
   "metadata": {},
   "source": [
    "22. Cuántas sumas de 3 enteros no negativos dan 10."
   ]
  },
  {
   "attachments": {},
   "cell_type": "markdown",
   "metadata": {},
   "source": [
    "Se tiene la ecuacion \n",
    "\n",
    "$$\n",
    "x_1+x_2+x_3=10\n",
    "$$\n",
    "lo que se calcula mediante la combinacion con repeticion de r=10 y n=3\n",
    "\n",
    "$$C_{r} ^ { n}={ n+r-1 \\choose r}={n+r-1 \\choose r}=\\frac{(n+r-1)!}{r!(n+r-1-r)!}=\\frac{(n+r-1)!}{r!(n-1)!}$$\n",
    "\n",
    "$$\n",
    "C_{10}^3={ 3+10-1 \\choose 10}={12 \\choose 10}=\\frac{12!}{10!(3-1)!}=\\frac{12!}{10!2!}=\\frac{12*11}{2}=\\frac{132}{2}=66\n",
    "$$"
   ]
  },
  {
   "cell_type": "code",
   "execution_count": 4,
   "metadata": {},
   "outputs": [],
   "source": [
    "import numpy as np"
   ]
  },
  {
   "cell_type": "code",
   "execution_count": 5,
   "metadata": {},
   "outputs": [],
   "source": [
    "def contar_suma(suma_objetivo, cantidad_sumandos):\n",
    "    r = suma_objetivo\n",
    "    n = cantidad_sumandos\n",
    "    count = 0\n",
    "    if cantidad_sumandos == 1:\n",
    "        return 1 if 0 <= suma_objetivo <= 10 else 0\n",
    "    else:\n",
    "        count = np.math.factorial(n+r-1) / (np.math.factorial(np.abs(r))*np.math.factorial(np.abs(n-1)))\n",
    "    return count"
   ]
  },
  {
   "cell_type": "code",
   "execution_count": 6,
   "metadata": {},
   "outputs": [
    {
     "name": "stdout",
     "output_type": "stream",
     "text": [
      "El numero de formas para representar 10 como una suma de 3 numeros no negativos es: 66.0\n"
     ]
    }
   ],
   "source": [
    "suma_objetivo = 10\n",
    "cantidad_sumandos = 3\n",
    "result = contar_suma(suma_objetivo, cantidad_sumandos)\n",
    "print(f\"El numero de formas para representar {suma_objetivo} como una suma de {cantidad_sumandos} numeros no negativos es:\", result)"
   ]
  }
 ],
 "metadata": {
  "kernelspec": {
   "display_name": "Python 3",
   "language": "python",
   "name": "python3"
  },
  "language_info": {
   "codemirror_mode": {
    "name": "ipython",
    "version": 3
   },
   "file_extension": ".py",
   "mimetype": "text/x-python",
   "name": "python",
   "nbconvert_exporter": "python",
   "pygments_lexer": "ipython3",
   "version": "3.11.3"
  },
  "orig_nbformat": 4
 },
 "nbformat": 4,
 "nbformat_minor": 2
}
