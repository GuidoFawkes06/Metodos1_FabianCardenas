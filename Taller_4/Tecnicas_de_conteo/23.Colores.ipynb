{
 "cells": [
  {
   "attachments": {},
   "cell_type": "markdown",
   "metadata": {},
   "source": [
    "23. Se tienen 9 llaves: 3 rojas, 3 azules y 3 verdes. Si elegimos 4, ¿de cuantas formas sepueden distribuir los colores?"
   ]
  },
  {
   "attachments": {},
   "cell_type": "markdown",
   "metadata": {},
   "source": [
    "Consideremos las posibles distribuciones de colores entre las 4 claves elegidas. Hay tres casos a examinar:\n",
    "1. Caso 1: Tres llaves de un color y una llave de otro color.\n",
    "2. Caso 2: Dos llaves de un color y una llave de cada uno de los otros dos colores.\n",
    "3. Caso 3: Dos llaves de un color y dos llaves de otro color.\n",
    "\n",
    "por ello la probabilidad de para cada uno de los casos es:\n",
    "\n",
    "1. Caso 1: Tres llaves de un color y una llave de otro color.\n",
    "Hay 3 formas de elegir el color de las tres llaves (rojo, azul o verde). Después de seleccionar el color de las tres llaves, hay 2 colores restantes para elegir para la ultima llave. Por lo tanto, hay 3 * 2 = 6 posibilidades para este caso.\n",
    "2. Caso 2: Dos llaves de un color y una llave de cada uno de los otros dos colores.\n",
    "Hay 3 formas de elegir el color de las dos llaves (rojo, azul o verde). Después de seleccionar el color de las dos llaves, solo hay una forma de distribuir los dos colores restantes entre las otras dos llaves. Por lo tanto, hay 3 posibilidades para este caso.\n",
    "3. Caso 3: Dos llaves de un color y dos llaves de otro color.\n",
    "Hay 3 formas de elegir el color de las dos llaves (rojo,azul o verde). Despues de seleccionar el color de las dos llaves, solo hay una forma de seleccionar el color restante. Debido a que el orden no importa, se elimina la redundancia. Por lo tanto, hay 3 posibilidades para este caso.\n",
    "\n",
    " \n",
    "Al ser un problema combinatorio, es necesario sumar la probabilidad de cada uno de los casos que se presemntan por ello la cantidad de formas en que se pueden distribuir los colores es igual a $P(C_1)+P(C_2)+P(C_3)=6+3+3=12$\n",
    " "
   ]
  },
  {
   "cell_type": "code",
   "execution_count": 1,
   "metadata": {},
   "outputs": [],
   "source": [
    "def color_distribution_ways(llaves_rojas, llaves_azules, llaves_verdes, llaves_elegidas):\n",
    "    if llaves_elegidas < 1:\n",
    "        return 0\n",
    "\n",
    "    contador = 0\n",
    "    for i in range(llaves_verdes+1):\n",
    "        for j in range(llaves_rojas+1):\n",
    "            for k in range(llaves_azules+1):\n",
    "                if i+j+k == llaves_elegidas:\n",
    "                    contador +=1\n",
    "\n",
    "    return contador"
   ]
  },
  {
   "cell_type": "code",
   "execution_count": 2,
   "metadata": {},
   "outputs": [
    {
     "name": "stdout",
     "output_type": "stream",
     "text": [
      "El numero de formas para distribuir los colores entre 4 llaves elegidas es: 12\n"
     ]
    }
   ],
   "source": [
    "llaves_rojas = 3\n",
    "llaves_azules = 3\n",
    "llaves_verdes = 3\n",
    "llaves_elegidas = 4\n",
    "\n",
    "result = color_distribution_ways(llaves_rojas, llaves_azules, llaves_verdes, llaves_elegidas)\n",
    "print(f\"El numero de formas para distribuir los colores entre {llaves_elegidas} llaves elegidas es: {result}\")"
   ]
  }
 ],
 "metadata": {
  "kernelspec": {
   "display_name": "Python 3",
   "language": "python",
   "name": "python3"
  },
  "language_info": {
   "codemirror_mode": {
    "name": "ipython",
    "version": 3
   },
   "file_extension": ".py",
   "mimetype": "text/x-python",
   "name": "python",
   "nbconvert_exporter": "python",
   "pygments_lexer": "ipython3",
   "version": "3.11.3"
  },
  "orig_nbformat": 4
 },
 "nbformat": 4,
 "nbformat_minor": 2
}
